{
  "nbformat": 4,
  "nbformat_minor": 0,
  "metadata": {
    "colab": {
      "name": "watermarking.ipynb",
      "provenance": [],
      "collapsed_sections": [
        "JpzF-crDPVbq",
        "cFJAJ419uani"
      ],
      "authorship_tag": "ABX9TyMoRFy6rpzheiXQFpw/WN0Y",
      "include_colab_link": true
    },
    "kernelspec": {
      "name": "python3",
      "display_name": "Python 3"
    },
    "language_info": {
      "name": "python"
    }
  },
  "cells": [
    {
      "cell_type": "markdown",
      "metadata": {
        "id": "view-in-github",
        "colab_type": "text"
      },
      "source": [
        "<a href=\"https://colab.research.google.com/github/amyush/FrequencyDomain_Watermarking/blob/main/watermarking.ipynb\" target=\"_parent\"><img src=\"https://colab.research.google.com/assets/colab-badge.svg\" alt=\"Open In Colab\"/></a>"
      ]
    },
    {
      "cell_type": "markdown",
      "source": [
        "# **Setting up the environment**"
      ],
      "metadata": {
        "id": "JpzF-crDPVbq"
      }
    },
    {
      "cell_type": "code",
      "source": [
        "!git clone https://github.com/amyush/FrequencyDomain_Watermarking.git"
      ],
      "metadata": {
        "colab": {
          "base_uri": "https://localhost:8080/"
        },
        "id": "0j3iLlog6tL9",
        "outputId": "c50820f9-b8f7-46c6-932b-a2c135f9f9ba"
      },
      "execution_count": 182,
      "outputs": [
        {
          "output_type": "stream",
          "name": "stdout",
          "text": [
            "fatal: destination path 'FrequencyDomain_Watermarking' already exists and is not an empty directory.\n"
          ]
        }
      ]
    },
    {
      "cell_type": "code",
      "execution_count": 183,
      "metadata": {
        "id": "8-4qGYfJ527x"
      },
      "outputs": [],
      "source": [
        "import numpy as np\n",
        "import cv2\n",
        "import math\n",
        "import pywt\n",
        "from PIL import Image, ImageOps\n",
        "import matplotlib.pyplot as plt\n",
        "from PIL import Image as im\n",
        "import math\n",
        "from scipy.fftpack import dct\n",
        "from scipy.fftpack import idct\n",
        "from google.colab.patches import cv2_imshow"
      ]
    },
    {
      "cell_type": "markdown",
      "source": [
        "# **Custom Functions**"
      ],
      "metadata": {
        "id": "7RtLV3On5mnJ"
      }
    },
    {
      "cell_type": "code",
      "source": [
        "def setParams():\n",
        "    global sizeOrig \n",
        "    sizeOrig = 512\n",
        "    global sizeWatermark\n",
        "    sizeWatermark = 64\n",
        "    global alpha \n",
        "    alpha = 0.02\n",
        "    global betaFactor\n",
        "    betaFactor = 1\n",
        "    global imgPath\n",
        "    imgPath = \"FrequencyDomain_Watermarking/\"\n",
        "    global factor\n",
        "    factor = sizeOrig // sizeWatermark\n",
        "\n",
        "def stringToBinary(a):\n",
        "  l=[]\n",
        "  res = ''.join(format(ord(i), '08b') for i in a)\n",
        "  return res\n",
        "\n",
        "def calculatePSNR(original, compressed):\n",
        "    mse = np.mean((original - compressed) ** 2)\n",
        "    if(mse == 0):  # MSE is zero means no noise is present in the signal .\n",
        "                    # Therefore PSNR have no importance.\n",
        "        return 100\n",
        "    max_pixel = 255.0\n",
        "    psnr = 20 * np.log10(max_pixel / np.sqrt(mse))\n",
        "    return psnr\n",
        "\n",
        "def apply_dct(image_array):\n",
        "    size = len(image_array[0])\n",
        "    all_subdct = np.empty((size, size))\n",
        "    for i in range (0, size, 8):\n",
        "        for j in range (0, size, 8):\n",
        "            subpixels = image_array[i:i+8, j:j+8]\n",
        "            subdct = dct(dct(subpixels.T, norm=\"ortho\").T, norm=\"ortho\")\n",
        "            all_subdct[i:i+8, j:j+8] = subdct\n",
        "\n",
        "    return all_subdct\n",
        "\n",
        "def inverse_dct(all_subdct):\n",
        "    size = len(all_subdct[0])\n",
        "    all_subidct = np.empty((size, size))\n",
        "    for i in range (0, size, 8):\n",
        "        for j in range (0, size, 8):\n",
        "            subidct = idct(idct(all_subdct[i:i+8, j:j+8].T, norm=\"ortho\").T, norm=\"ortho\")\n",
        "            all_subidct[i:i+8, j:j+8] = subidct\n",
        "\n",
        "    return all_subidct"
      ],
      "metadata": {
        "id": "q6wKP6j18O3F"
      },
      "execution_count": 197,
      "outputs": []
    },
    {
      "cell_type": "markdown",
      "source": [
        "# **Steganography**"
      ],
      "metadata": {
        "id": "kbNjxJime5WM"
      }
    },
    {
      "cell_type": "markdown",
      "source": [
        "## **Hiding the data**"
      ],
      "metadata": {
        "id": "d8TzaV8-6bgh"
      }
    },
    {
      "cell_type": "code",
      "source": [
        "def encodingImage(imageName, key, hiddenImageName):\n",
        "    setParams();\n",
        "    binKey = stringToBinary(key)\n",
        "    lenBinKey = len(binKey)\n",
        "    \n",
        "    # Reading the cover image\n",
        "    originalImage = cv2.imread(imgPath + imageName)\n",
        "    originalImage = cv2.resize(originalImage, (sizeOrig, sizeOrig))\n",
        "    waterMarkedImage = originalImage\n",
        "    waterMarkedImage = cv2.cvtColor(waterMarkedImage, cv2.COLOR_BGR2RGB)\n",
        "    \n",
        "    inputArray = np.array(waterMarkedImage[:,:,0], dtype=float)\n",
        "\n",
        "    # Reading the watermark image\n",
        "    waterMarkLogo = cv2.imread(imgPath + hiddenImageName)\n",
        "    waterMarkLogo = cv2.resize(waterMarkLogo, (sizeWatermark,sizeWatermark))\n",
        "    waterMarkArray = np.array(waterMarkLogo,dtype=float)\n",
        "    flatWaterMark = (waterMarkArray/255).ravel()\n",
        "\n",
        "    index = -1\n",
        "    count = 0\n",
        "    beta = betaFactor\n",
        "\n",
        "    for i in range(0, sizeOrig, 8):\n",
        "        for j in range(0, sizeOrig, 8):\n",
        "            if((int)(binKey[index%lenBinKey]) == 1):\n",
        "                beta *= -1\n",
        "            inputArray[i:i+8,j:j+8]=dct(dct(inputArray[i:i+8,j:j+8].T, norm=\"ortho\").T, norm=\"ortho\")\n",
        "            inputArray[1][1] += alpha * beta * flatWaterMark[count]\n",
        "            inputArray[i:i+8,j:j+8]=idct(idct(inputArray[i:i+8,j:j+8].T, norm=\"ortho\").T, norm=\"ortho\")\n",
        "            count += 1\n",
        "\n",
        "    waterMarkedImage[:,:,0] = inputArray\n",
        "    waterMarkedImage = np.array(waterMarkedImage).astype(np.uint8)\n",
        "    waterMarkedImage = cv2.cvtColor(waterMarkedImage, cv2.COLOR_BGR2RGB)\n",
        "    res = cv2.imwrite('watermarked11.jpg', waterMarkedImage)\n",
        "    return originalImage, waterMarkedImage\n"
      ],
      "metadata": {
        "id": "ddmjbVfq7vku"
      },
      "execution_count": 341,
      "outputs": []
    },
    {
      "cell_type": "markdown",
      "source": [
        "## **Extracting the watermark image**"
      ],
      "metadata": {
        "id": "OQyEPUHG0tV9"
      }
    },
    {
      "cell_type": "code",
      "source": [
        "def extractImage(imageName, key):\n",
        "    setParams();\n",
        "    binKey = stringToBinary(key)\n",
        "    lenBinKey = len(binKey)\n",
        "    \n",
        "    # Reading the cover image\n",
        "    inputImage = Image.open(imgPath + imageName).convert('L')\n",
        "    # Resizing the cover image so that it's dimension is compatible with the watermark image\n",
        "    inputImage = inputImage.resize((sizeOrig,sizeOrig),Image.BILINEAR)\n",
        "    # Converting the original image to array\n",
        "    inputArray = np.array(inputImage.getdata(), dtype=np.float).reshape((sizeOrig,sizeOrig))\n",
        "\n",
        "    # Reading the watermark image\n",
        "    waterMarkImage = Image.open(imgPath + hiddenImageName).convert('L')\n",
        "    # Resizing the logo image so that it's dimension is compatible with the cover image\n",
        "    waterMarkImage = waterMarkImage.resize((sizeWatermark, sizeWatermark), Image.BILINEAR)\n",
        "    waterMarkArray = np.array(waterMarkImage.getdata(), dtype=np.float).reshape((sizeWatermark,sizeWatermark))\n",
        "\n",
        "    dctOrigArray = apply_dct(inputArray)\n",
        "    dctWaterMarkArray = apply_dct(waterMarkArray)\n",
        "    flatWaterMark = waterMarkArray.ravel()\n",
        "\n",
        "    index = -1\n",
        "    count = 0\n",
        "\n",
        "    for x in range (0, dctOrigArray.shape[0], 16):\n",
        "        for y in range (0, dctOrigArray.shape[1], 16):\n",
        "            index = index + 1;\n",
        "            if((int)(binKey[index%lenBinKey]) == 1):\n",
        "                beta *= -1\n",
        "            if count < flatWaterMark.size:\n",
        "                subdct = dctOrigArray[x:x+16, y:y+16]\n",
        "                subdct[12][12] = subdct[12][12] + alpha * beta * flatWaterMark[count]\n",
        "                dctOrigArray[x:x+16, y:y+16] = subdct\n",
        "                count += 1 \n",
        "    \n",
        "    idctArray = inverse_dct(dctOrigArray)\n",
        "    resImage = cv2.imwrite('coverRes.png', idctArray)"
      ],
      "metadata": {
        "id": "uNAT-blR01nB"
      },
      "execution_count": 273,
      "outputs": []
    },
    {
      "cell_type": "markdown",
      "source": [
        "# **Results**"
      ],
      "metadata": {
        "id": "cFJAJ419uani"
      }
    },
    {
      "cell_type": "code",
      "source": [
        "# coverFileName = input(\"Enter the cover filename: (eg- cover.jpg or lena.png)\")\n",
        "# key = input(\"Enter the key:\")\n",
        "# waterMarkImageName = input(\"Enter the name of the image to be hidden: (eg- iitbbs_logo.jpeg or logo.png)\")\n",
        "\n",
        "coverFileName = 'lena.png'\n",
        "key = 'Appa'\n",
        "hiddenImageName = 'iitbbs_logo.jpeg'\n",
        "\n",
        "orig, water_marked = encodingImage(coverFileName, key, hiddenImageName)\n",
        " "
      ],
      "metadata": {
        "id": "2gujTBqS6oFN"
      },
      "execution_count": 348,
      "outputs": []
    },
    {
      "cell_type": "code",
      "source": [
        "# resImage = Image.open('watermarked1.jpg').convert('RGB')\n",
        "resImage = water_marked\n",
        "# inputImage = Image.open('FrequencyDomain_Watermarking/cover.jpg').convert('RGB')\n",
        "inputImage = orig\n",
        "# inputImage = inputImage.resize((sizeOrig, sizeOrig), Image.BILINEAR)\n",
        "psnr = calculatePSNR(inputImage, resImage)\n",
        "print(psnr)\n",
        "\n",
        "# plt.subplot(1,2,1),plt.imshow(inputImage.convert('RGB')), plt.title(\"Input Image\")\n",
        "# plt.subplot(1,2,2),plt.imshow(resImage.convert('RGB')), plt.title(\"Output Image\") \n"
      ],
      "metadata": {
        "colab": {
          "base_uri": "https://localhost:8080/"
        },
        "id": "QdKdTbol-l9C",
        "outputId": "f8f82fda-fc0c-478b-fab4-615a12f22555"
      },
      "execution_count": 345,
      "outputs": [
        {
          "output_type": "stream",
          "name": "stdout",
          "text": [
            "71.29072243984514\n"
          ]
        }
      ]
    },
    {
      "cell_type": "code",
      "source": [
        "def encodingImage(imageName, key, hiddenImageName):\n",
        "    setParams();\n",
        "    binKey = stringToBinary(key)\n",
        "    lenBinKey = len(binKey)\n",
        "    \n",
        "    # # Reading the cover image\n",
        "    # inputImage = Image.open(imgPath + imageName).convert('RGB')\n",
        "    # # Resizing the cover image so that it's dimension is compatible with the watermark image\n",
        "    # inputImage = inputImage.resize((sizeOrig,sizeOrig),Image.ANTIALIAS)\n",
        "    # # Converting the original image to array\n",
        "    # inputImage = np.array(inputImage)\n",
        "\n",
        "    # inputArray = np.array(inputImage[:,:,0], dtype=np.float).reshape((sizeOrig,sizeOrig))\n",
        "\n",
        "    # # Reading the watermark image\n",
        "    # waterMarkImage = Image.open(imgPath + hiddenImageName).convert('L')\n",
        "    # # Resizing the logo image so that it's dimension is compatible with the cover image\n",
        "    # waterMarkImage = waterMarkImage.resize((sizeWatermark, sizeWatermark), Image.BILINEAR)\n",
        "    # waterMarkArray = np.array(waterMarkImage.getdata(), dtype=np.float).reshape((sizeWatermark,sizeWatermark))\n",
        "\n",
        "    # dctOrigArray = apply_dct(inputArray)\n",
        "    # dctWaterMarkArray = apply_dct(waterMarkArray)\n",
        "    # flatWaterMark = dctWaterMarkArray.ravel()\n",
        "\n",
        "    # index = -1\n",
        "    # count = 0\n",
        "    # beta = betaFactor\n",
        "\n",
        "    # for x in range (0, dctOrigArray.shape[0], factor):\n",
        "    #     for y in range (0, dctOrigArray.shape[1], factor):\n",
        "    #         index = index + 1;\n",
        "    #         if((int)(binKey[index%lenBinKey]) == 1):\n",
        "    #             beta *= -1\n",
        "    #         if count < flatWaterMark.size:\n",
        "    #             subdct = dctOrigArray[x:x+factor, y:y+factor]\n",
        "    #             subdct[1][1] = subdct[1][1] + alpha * beta * flatWaterMark[count]\n",
        "    #             dctOrigArray[x:x+factor, y:y+factor] = subdct\n",
        "    #             count += 1\n",
        "    #         else:\n",
        "    #             break\n",
        "    \n",
        "    # idctArray = inverse_dct(dctOrigArray)\n",
        "    # inputImage[:,:,0] = idctArray\n",
        "    # inputImage = Image.fromarray(inputImage)\n",
        "    # inputImage.save(\"watermarked1.jpg\")\n",
        "\n",
        "    # re = cv2.imwrite('watermarked1.jpg', outputImage)\n",
        "\n",
        "\n",
        "# ----------------------------------------------------------------\n",
        "\n",
        "    orig=cv2.imread(imgPath + imageName)\n",
        "    # orig = cv2.resize(orig, (sizeOrig, sizeOrig))\n",
        "    wm=cv2.imread(imgPath + hiddenImageName)\n",
        "    # wm = cv2.resize(wm, (sizeWatermark,sizeWatermark))\n",
        "\n",
        "\n",
        "    # test_0=cv2.cvtColor(orig,cv2.COLOR_BGR2YUV)\n",
        "    # test=test_0[:,:,0]\n",
        "    # test=np.array(test,dtype=float).reshape((sizeOrig,sizeOrig))\n",
        "    \n",
        "    test_0=cv2.cvtColor(orig,cv2.COLOR_BGR2YUV)\n",
        "    test=test_0[:,:,0]\n",
        "    test=np.array(test,dtype=float).reshape((test.shape[0],test.shape[1]))\n",
        "    \n",
        "    size_1=int(test.shape[0]/8) * 8\n",
        "    size_2=int(test.shape[1]/8) * 8\n",
        "\n",
        "    # wm_arry=np.array(wm,dtype=float).reshape((sizeWatermark,sizeWatermark,3))\n",
        "    # wm_arry=wm_arry/255\n",
        "    wm_arry=np.array(wm,dtype=float).reshape((wm.shape[0],wm.shape[1],3))\n",
        "    wm_arry=wm_arry/255\n",
        "    wm_flat=wm_arry.ravel()\n",
        "\n",
        "    k=0\n",
        "    z=0\n",
        "    # for x in range (0, dctOrigArray.shape[0], factor):\n",
        "    #     for y in range (0, dctOrigArray.shape[1], factor):\n",
        "    #         index = index + 1;\n",
        "    #         if((int)(binKey[index%lenBinKey]) == 1):\n",
        "    #             beta *= -1\n",
        "    #         if count < flatWaterMark.size:\n",
        "    #             subdct = dctOrigArray[x:x+factor, y:y+factor]\n",
        "    #             subdct[1][1] = subdct[1][1] + alpha * beta * flatWaterMark[count]\n",
        "    #             dctOrigArray[x:x+factor, y:y+factor] = subdct\n",
        "    #             count += 1\n",
        "    #         else:\n",
        "    #             break\n",
        "\n",
        "    beta = betaFactor\n",
        "    for i in range(0,size_1,8):\n",
        "        for j in range(0,size_1,8):\n",
        "            if(k<len(wm_flat)):\n",
        "                test[i:i+8,j:j+8]=dct(dct(test[i:i+8,j:j+8].T, norm=\"ortho\").T, norm=\"ortho\")\n",
        "                r =6\n",
        "                c = 6\n",
        "                z=z+1\n",
        "                test[i+r][j+c] += alpha * beta * wm_flat[k]\n",
        "                k=k+1\n",
        "                test[i:i+8,j:j+8]=idct(idct(test[i:i+8,j:j+8].T, norm=\"ortho\").T, norm=\"ortho\")\n",
        "            else:\n",
        "                break\n",
        "        if(k>=len(wm_flat)):\n",
        "            break\n",
        "\n",
        "    embed_img=np.zeros((test.shape[0],test.shape[1],3),dtype=np.uint8)\n",
        "    embed_img[:,:,0]=test\n",
        "    embed_img[:,:,1:]=test_0[:,:,1:]\n",
        "    water_marked=cv2.cvtColor(embed_img,cv2.COLOR_YUV2BGR)\n",
        "    # cv2_imshow(water_marked)\n",
        "    res = cv2.imwrite('watermarked1.jpg', water_marked)\n",
        "    return orig, water_marked\n"
      ],
      "metadata": {
        "id": "nbYMgKlrjq9S"
      },
      "execution_count": 346,
      "outputs": []
    },
    {
      "cell_type": "code",
      "source": [
        "# waterMarkedImage = 'coverRes.jpg'\n",
        "# key = 'Appa'\n",
        "\n",
        "# extractImage(waterMarkedImage, key)"
      ],
      "metadata": {
        "id": "WJ6Gh3Zq3_9Z"
      },
      "execution_count": 275,
      "outputs": []
    }
  ]
}