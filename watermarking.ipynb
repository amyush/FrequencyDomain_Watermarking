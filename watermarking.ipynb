{
  "nbformat": 4,
  "nbformat_minor": 0,
  "metadata": {
    "colab": {
      "name": "watermarking.ipynb",
      "provenance": [],
      "collapsed_sections": [
        "JpzF-crDPVbq",
        "cFJAJ419uani"
      ],
      "authorship_tag": "ABX9TyOkHnG7gEukRAmE17ClyTme",
      "include_colab_link": true
    },
    "kernelspec": {
      "name": "python3",
      "display_name": "Python 3"
    },
    "language_info": {
      "name": "python"
    }
  },
  "cells": [
    {
      "cell_type": "markdown",
      "metadata": {
        "id": "view-in-github",
        "colab_type": "text"
      },
      "source": [
        "<a href=\"https://colab.research.google.com/github/amyush/FrequencyDomain_Watermarking/blob/main/watermarking.ipynb\" target=\"_parent\"><img src=\"https://colab.research.google.com/assets/colab-badge.svg\" alt=\"Open In Colab\"/></a>"
      ]
    },
    {
      "cell_type": "markdown",
      "source": [
        "# **Setting up the environment**"
      ],
      "metadata": {
        "id": "JpzF-crDPVbq"
      }
    },
    {
      "cell_type": "code",
      "source": [
        "!git clone https://github.com/amyush/FrequencyDomain_Watermarking.git"
      ],
      "metadata": {
        "colab": {
          "base_uri": "https://localhost:8080/"
        },
        "id": "0j3iLlog6tL9",
        "outputId": "046bb992-0406-416f-9c6e-305ed243cd67"
      },
      "execution_count": 3,
      "outputs": [
        {
          "output_type": "stream",
          "name": "stdout",
          "text": [
            "Cloning into 'FrequencyDomain_Watermarking'...\n",
            "remote: Enumerating objects: 24, done.\u001b[K\n",
            "remote: Counting objects: 100% (24/24), done.\u001b[K\n",
            "remote: Compressing objects: 100% (21/21), done.\u001b[K\n",
            "remote: Total 24 (delta 7), reused 0 (delta 0), pack-reused 0\u001b[K\n",
            "Unpacking objects: 100% (24/24), done.\n"
          ]
        }
      ]
    },
    {
      "cell_type": "code",
      "execution_count": 55,
      "metadata": {
        "id": "8-4qGYfJ527x"
      },
      "outputs": [],
      "source": [
        "import numpy as np\n",
        "import cv2\n",
        "import math\n",
        "import pywt\n",
        "from PIL import Image, ImageOps\n",
        "import matplotlib.pyplot as plt\n",
        "from PIL import Image as im\n",
        "import math\n",
        "from scipy.fftpack import dct\n",
        "from scipy.fftpack import idct"
      ]
    },
    {
      "cell_type": "markdown",
      "source": [
        "# **Custom Functions**"
      ],
      "metadata": {
        "id": "7RtLV3On5mnJ"
      }
    },
    {
      "cell_type": "code",
      "source": [
        "def stringToBinary(a):\n",
        "  l=[]\n",
        "  res = ''.join(format(ord(i), '08b') for i in a)\n",
        "  return res\n",
        "\n",
        "def binaryToString(a):\n",
        "  return chr(binaryToInt(a))\n",
        "\n",
        "def integerToBinary(a):\n",
        "  return int(bin(a)[2:])\n",
        "\n",
        "def binaryToInt(binary): \n",
        "    int_val, i, n = 0, 0, 0\n",
        "    while(binary != 0): \n",
        "        a = binary % 10\n",
        "        int_val = int_val + a * pow(2, i) \n",
        "        binary = binary//10\n",
        "        i += 1\n",
        "    return int_val\n",
        "\n",
        "def calculatePSNR(originalImage, encodedImage):\n",
        "    originalImage = np.asarray(originalImage)\n",
        "    encodedImage = np.asarray(encodedImage)\n",
        "    error = np.sum((originalImage.astype('float') - encodedImage.astype('float')) ** 2)\n",
        "    error /= float(originalImage.shape[0] * originalImage.shape[1]);\n",
        "    if error == 0:\n",
        "        return 100\n",
        "    PIXEL_MAX = 255.0\n",
        "    return 20 * math.log10(PIXEL_MAX / math.sqrt(error))\n",
        "\n",
        "def apply_dct(image_array):\n",
        "    size = len(image_array[0])\n",
        "    all_subdct = np.empty((size, size))\n",
        "    for i in range (0, size, 8):\n",
        "        for j in range (0, size, 8):\n",
        "            subpixels = image_array[i:i+8, j:j+8]\n",
        "            subdct = dct(dct(subpixels.T, norm=\"ortho\").T, norm=\"ortho\")\n",
        "            all_subdct[i:i+8, j:j+8] = subdct\n",
        "\n",
        "    return all_subdct\n",
        "\n",
        "def inverse_dct(all_subdct):\n",
        "    size = len(all_subdct[0])\n",
        "    all_subidct = np.empty((size, size))\n",
        "    for i in range (0, size, 8):\n",
        "        for j in range (0, size, 8):\n",
        "            subidct = idct(idct(all_subdct[i:i+8, j:j+8].T, norm=\"ortho\").T, norm=\"ortho\")\n",
        "            all_subidct[i:i+8, j:j+8] = subidct\n",
        "\n",
        "    return all_subidct\n",
        "\n",
        "def process_coefficients(imArray, model, level):\n",
        "    coeffs=pywt.wavedec2(data = imArray, wavelet = model, level = level)\n",
        "    coeffs_H=list(coeffs) \n",
        "   \n",
        "    return coeffs_H"
      ],
      "metadata": {
        "id": "q6wKP6j18O3F"
      },
      "execution_count": 56,
      "outputs": []
    },
    {
      "cell_type": "markdown",
      "source": [
        "# **Steganography**"
      ],
      "metadata": {
        "id": "kbNjxJime5WM"
      }
    },
    {
      "cell_type": "markdown",
      "source": [
        "## **Hiding the data**"
      ],
      "metadata": {
        "id": "d8TzaV8-6bgh"
      }
    },
    {
      "cell_type": "code",
      "source": [
        "def encodingImage(imageName, key, hiddenImageName):\n",
        "    sizeOrig = 2048\n",
        "    sizeWatermark = 128\n",
        "    imgPath =\"FrequencyDomain_Watermarking/\"\n",
        "    binKey = stringToBinary(key)\n",
        "    lenBinKey = len(binKey)\n",
        "    \n",
        "    # Reading the cover image\n",
        "    inputImage = Image.open(imgPath + imageName).convert('L')\n",
        "    # Resizing the cover image so that it's dimension is compatible with the watermark image\n",
        "    inputImage = inputImage.resize((sizeOrig,sizeOrig),Image.BILINEAR)\n",
        "    # Converting the original image to array\n",
        "    inputArray = np.array(inputImage.getdata(), dtype=np.float).reshape((sizeOrig,sizeOrig))\n",
        "\n",
        "    # Reading the watermark image\n",
        "    waterMarkImage = Image.open(imgPath + hiddenImageName).convert('L')\n",
        "    # Resizing the logo image so that it's dimension is compatible with the cover image\n",
        "    waterMarkImage = waterMarkImage.resize((sizeWatermark, sizeWatermark), Image.BILINEAR)\n",
        "    waterMarkArray = np.array(waterMarkImage.getdata(), dtype=np.float).reshape((sizeWatermark,sizeWatermark))\n",
        "\n",
        "    dctOrigArray = apply_dct(inputArray)\n",
        "    dctWaterMarkArray = apply_dct(waterMarkArray)\n",
        "    flatWaterMark = waterMarkArray.ravel()\n",
        "\n",
        "    index = -1\n",
        "    count = 0\n",
        "\n",
        "    for x in range (0, dctOrigArray.shape[0], 16):\n",
        "        for y in range (0, dctOrigArray.shape[1], 16):\n",
        "            if count < flatWaterMark.size:\n",
        "                subdct = dctOrigArray[x:x+16, y:y+16]\n",
        "                subdct[12][12] = subdct[12][12]*0.5 + 0.5*flatWaterMark[count]\n",
        "                dctOrigArray[x:x+16, y:y+16] = subdct\n",
        "                count += 1 \n",
        "    \n",
        "    idctArray = inverse_dct(dctOrigArray)\n",
        "    resImage = cv2.imwrite('coverRes.png', idctArray)\n",
        "    \n",
        "    # return inputImage, resultArray\n",
        "    return idctArray, 'awd'"
      ],
      "metadata": {
        "id": "ddmjbVfq7vku"
      },
      "execution_count": 80,
      "outputs": []
    },
    {
      "cell_type": "code",
      "source": [
        "# coverFileName = input(\"Enter the cover filename: (eg- Cover_1.png or Cover_2.png)\")\n",
        "# key = input(\"Enter the key:\")\n",
        "# hiddenImageName = input(\"Enter the name of the image to be hidden:\")\n",
        "\n",
        "coverFileName = 'cover.jpg'\n",
        "key = 'Appawdawdawdawdle'\n",
        "hiddenImageName = 'logo.png'\n",
        "\n",
        "inputImage, outputImage = encodingImage(coverFileName, key, hiddenImageName)\n",
        "\n",
        "# plt.subplot(1,2,1),plt.imshow(cv2.cvtColor(ip, cv2.COLOR_BGR2RGB)), plt.title(\"Input Image\")\n",
        "# plt.subplot(1,2,2),plt.imshow(outputImage), plt.title(\"Output Image\") \n",
        "# plt.subplot(1,3,3),plt.imshow(cv2.cvtColor(idct, cv2.COLOR_BGR2RGB)), plt.title(\"Output Image\") "
      ],
      "metadata": {
        "id": "2gujTBqS6oFN",
        "colab": {
          "base_uri": "https://localhost:8080/"
        },
        "outputId": "8daba7d0-5630-4047-e3a2-dbccd8f7dbdc"
      },
      "execution_count": 81,
      "outputs": [
        {
          "output_type": "stream",
          "name": "stdout",
          "text": [
            "[[ 4.         3.         3.        ... 11.        12.        12.       ]\n",
            " [ 3.         3.         3.        ... 12.        11.        12.       ]\n",
            " [ 3.         3.         3.        ... 11.        12.        11.       ]\n",
            " ...\n",
            " [17.        17.        16.        ... 41.6328125 42.6328125 35.3671875]\n",
            " [14.        13.        12.        ... 42.6328125 40.6328125 34.3671875]\n",
            " [ 7.         6.         6.        ... 36.3671875 33.3671875 34.6328125]]\n"
          ]
        }
      ]
    },
    {
      "cell_type": "code",
      "source": [
        "re = Image.open('coverRes.png')\n",
        "ip = Image.open('FrequencyDomain_Watermarking/cover.jpg').convert('L')\n",
        "ip = ip.resize((2048, 2048), Image.ANTIALIAS)\n",
        "calculatePSNR(ip, re)"
      ],
      "metadata": {
        "colab": {
          "base_uri": "https://localhost:8080/"
        },
        "id": "QdKdTbol-l9C",
        "outputId": "a323a1df-c3fc-4c02-ede5-f4294ffbb4e0"
      },
      "execution_count": 82,
      "outputs": [
        {
          "output_type": "execute_result",
          "data": {
            "text/plain": [
              "32.842818888616875"
            ]
          },
          "metadata": {},
          "execution_count": 82
        }
      ]
    },
    {
      "cell_type": "markdown",
      "source": [
        "# **Results**"
      ],
      "metadata": {
        "id": "cFJAJ419uani"
      }
    },
    {
      "cell_type": "code",
      "source": [
        "def encode(img_path, wm_path, res_path, alpha):\n",
        "    img = cv2.imread(img_path)\n",
        "    img_f = np.fft.fft2(img)\n",
        "    height, width, channel = np.shape(img)\n",
        "    watermark = cv2.imread(wm_path)\n",
        "    wm_height, wm_width = watermark.shape[0], watermark.shape[1]\n",
        "    x, y = range(height / 2), range(width)\n",
        "    random.seed(height + width)\n",
        "    random.shuffle(x)\n",
        "    random.shuffle(y)\n",
        "    tmp = np.zeros(img.shape)\n",
        "    for i in range(height / 2):\n",
        "        for j in range(width):\n",
        "            if x[i] < wm_height and y[j] < wm_width:\n",
        "                tmp[i][j] = watermark[x[i]][y[j]]\n",
        "                tmp[height - 1 - i][width - 1 - j] = tmp[i][j]\n",
        "    res_f = img_f + alpha * tmp\n",
        "    res = np.fft.ifft2(res_f)\n",
        "    res = np.real(res)\n",
        "    cv2.imwrite(res_path, res, [int(cv2.IMWRITE_JPEG_QUALITY), 100])"
      ],
      "metadata": {
        "id": "xcPuZHmRI4cq"
      },
      "execution_count": null,
      "outputs": []
    },
    {
      "cell_type": "code",
      "source": [
        "plt.subplot(1,3,1),plt.imshow(cv2.cvtColor(result, cv2.COLOR_BGR2RGB)), plt.title(\"Input Image\")\n"
      ],
      "metadata": {
        "id": "jyQlP4bg0H5O"
      },
      "execution_count": null,
      "outputs": []
    }
  ]
}