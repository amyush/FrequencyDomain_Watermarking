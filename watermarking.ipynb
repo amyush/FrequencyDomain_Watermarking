{
  "nbformat": 4,
  "nbformat_minor": 0,
  "metadata": {
    "colab": {
      "name": "watermarking.ipynb",
      "provenance": [],
      "collapsed_sections": [
        "JpzF-crDPVbq",
        "cFJAJ419uani"
      ],
      "authorship_tag": "ABX9TyP4yfQ5+2ivqyYou1nZjd3s",
      "include_colab_link": true
    },
    "kernelspec": {
      "name": "python3",
      "display_name": "Python 3"
    },
    "language_info": {
      "name": "python"
    }
  },
  "cells": [
    {
      "cell_type": "markdown",
      "metadata": {
        "id": "view-in-github",
        "colab_type": "text"
      },
      "source": [
        "<a href=\"https://colab.research.google.com/github/amyush/FrequencyDomain_Watermarking/blob/attacksOnWatermarkedImages/watermarking.ipynb\" target=\"_parent\"><img src=\"https://colab.research.google.com/assets/colab-badge.svg\" alt=\"Open In Colab\"/></a>"
      ]
    },
    {
      "cell_type": "markdown",
      "source": [
        "# **Setting up the environment**"
      ],
      "metadata": {
        "id": "JpzF-crDPVbq"
      }
    },
    {
      "cell_type": "code",
      "source": [
        "!git clone https://github.com/amyush/FrequencyDomain_Watermarking.git"
      ],
      "metadata": {
        "colab": {
          "base_uri": "https://localhost:8080/"
        },
        "id": "0j3iLlog6tL9",
        "outputId": "411d90a8-50eb-4829-bc3e-5137dd53bd26"
      },
      "execution_count": 13,
      "outputs": [
        {
          "output_type": "stream",
          "name": "stdout",
          "text": [
            "Cloning into 'FrequencyDomain_Watermarking'...\n",
            "remote: Enumerating objects: 67, done.\u001b[K\n",
            "remote: Counting objects: 100% (67/67), done.\u001b[K\n",
            "remote: Compressing objects: 100% (64/64), done.\u001b[K\n",
            "remote: Total 67 (delta 32), reused 0 (delta 0), pack-reused 0\u001b[K\n",
            "Unpacking objects: 100% (67/67), done.\n"
          ]
        }
      ]
    },
    {
      "cell_type": "code",
      "execution_count": 14,
      "metadata": {
        "id": "8-4qGYfJ527x"
      },
      "outputs": [],
      "source": [
        "import numpy as np\n",
        "import cv2\n",
        "import math\n",
        "import pywt\n",
        "from PIL import Image, ImageOps\n",
        "import matplotlib.pyplot as plt\n",
        "from PIL import Image as im\n",
        "import math\n",
        "from scipy.fftpack import dct\n",
        "from scipy.fftpack import idct\n",
        "from google.colab.patches import cv2_imshow"
      ]
    },
    {
      "cell_type": "markdown",
      "source": [
        "# **Custom Functions**"
      ],
      "metadata": {
        "id": "7RtLV3On5mnJ"
      }
    },
    {
      "cell_type": "code",
      "source": [
        "def setParams():\n",
        "    global alpha \n",
        "    alpha = 0.02\n",
        "    global betaFactor\n",
        "    betaFactor = 1\n",
        "    global imgPath\n",
        "    imgPath = \"FrequencyDomain_Watermarking/\"\n",
        "    global factor\n",
        "    factor = 8\n",
        "\n",
        "def stringToBinary(a):\n",
        "  l=[]\n",
        "  res = ''.join(format(ord(i), '08b') for i in a)\n",
        "  return res\n",
        "\n",
        "def calculatePSNR(original, compressed):\n",
        "    mse = np.mean((original - compressed) ** 2)\n",
        "    if(mse == 0):  # MSE is zero means no noise is present in the signal .\n",
        "                    # Therefore PSNR have no importance.\n",
        "        return 100\n",
        "    max_pixel = 255.0\n",
        "    psnr = 20 * np.log10(max_pixel / np.sqrt(mse))\n",
        "    return psnr\n",
        "\n",
        "def apply_dct(image_array):\n",
        "    # size = (int)(math.sqrt(image_array.size))\n",
        "    size = len(image_array[0])\n",
        "    all_subdct = np.empty((size, size))\n",
        "    for i in range (0, size, 8):\n",
        "        for j in range (0, size, 8):\n",
        "            subpixels = image_array[i:i+8, j:j+8]\n",
        "            subdct = dct(dct(subpixels.T, norm=\"ortho\").T, norm=\"ortho\")\n",
        "            all_subdct[i:i+8, j:j+8] = subdct\n",
        "\n",
        "    return all_subdct\n",
        "\n",
        "def inverse_dct(all_subdct):\n",
        "    size = len(all_subdct[0])\n",
        "    all_subidct = np.empty((size, size))\n",
        "    for i in range (0, size, 8):\n",
        "        for j in range (0, size, 8):\n",
        "            subidct = idct(idct(all_subdct[i:i+8, j:j+8].T, norm=\"ortho\").T, norm=\"ortho\")\n",
        "            all_subidct[i:i+8, j:j+8] = subidct\n",
        "    return all_subidct\n"
      ],
      "metadata": {
        "id": "q6wKP6j18O3F"
      },
      "execution_count": 18,
      "outputs": []
    },
    {
      "cell_type": "markdown",
      "source": [
        "# **Steganography**"
      ],
      "metadata": {
        "id": "kbNjxJime5WM"
      }
    },
    {
      "cell_type": "markdown",
      "source": [
        "## **Hiding the data**"
      ],
      "metadata": {
        "id": "d8TzaV8-6bgh"
      }
    },
    {
      "cell_type": "code",
      "source": [
        "def encodingImage(imageName, key, hiddenImageName):\n",
        "    setParams();\n",
        "    binKey = stringToBinary(key)\n",
        "    lenBinKey = len(binKey)\n",
        "\n",
        "    # Reading the cover image\n",
        "    originalImage = cv2.imread(imgPath + imageName)\n",
        "\n",
        "    sizeOrig = 512\n",
        "    originalImage = cv2.resize(originalImage, (sizeOrig, sizeOrig))\n",
        "\n",
        "    # Reading the watermark image\n",
        "    waterMarkLogo = cv2.imread(imgPath + hiddenImageName)\n",
        "    sizeWatermark = 64\n",
        "    waterMarkLogo = cv2.resize(waterMarkLogo, (sizeWatermark, sizeWatermark))\n",
        "    \n",
        "    waterMarkArray = np.array(waterMarkLogo,dtype=float)\n",
        "\n",
        "    flatWaterMarkArray = np.zeros(shape = (sizeWatermark,sizeWatermark,3))\n",
        "    flatWaterMarkArray[:,:,0] = apply_dct(waterMarkArray[:,:,0])\n",
        "    flatWaterMarkArray[:,:,1] = apply_dct(waterMarkArray[:,:,1])\n",
        "    flatWaterMarkArray[:,:,2] = apply_dct(waterMarkArray[:,:,2])\n",
        "    \n",
        "    waterMarkedImage = np.zeros((sizeOrig,sizeOrig,3))\n",
        "\n",
        "    for dim in range(0,3,1):\n",
        "        inputArray = np.array(originalImage[:,:,dim], dtype=float)\n",
        "        flatWaterMark = (flatWaterMarkArray[:,:,dim]/255).ravel()\n",
        "        index = -1\n",
        "        count = 0\n",
        "        beta = betaFactor\n",
        "\n",
        "        for i in range(0, sizeOrig, 8):\n",
        "            for j in range(0, sizeOrig, 8):\n",
        "                index += 1\n",
        "                if((int)(binKey[index%lenBinKey]) == 1):\n",
        "                    beta *= -1\n",
        "                inputArray[i:i+8,j:j+8]=dct(dct(inputArray[i:i+8,j:j+8].T, norm=\"ortho\").T, norm=\"ortho\")\n",
        "                inputArray[i+1][j+1] += alpha * beta * flatWaterMark[count]\n",
        "                inputArray[i:i+8,j:j+8]=idct(idct(inputArray[i:i+8,j:j+8].T, norm=\"ortho\").T, norm=\"ortho\")\n",
        "                count += 1\n",
        "\n",
        "        waterMarkedImage[:,:,dim] = inputArray\n",
        "\n",
        "    \n",
        "    res = cv2.imwrite('waterMarkedImage.jpg', waterMarkedImage)\n",
        "    return originalImage, waterMarkedImage, waterMarkLogo, sizeWatermark\n"
      ],
      "metadata": {
        "id": "ddmjbVfq7vku"
      },
      "execution_count": 9,
      "outputs": []
    },
    {
      "cell_type": "markdown",
      "source": [
        "## **Extracting the watermark image**"
      ],
      "metadata": {
        "id": "OQyEPUHG0tV9"
      }
    },
    {
      "cell_type": "code",
      "source": [
        "def extractImage(imageName, waterMarkedImage, key):\n",
        "    setParams();\n",
        "    binKey = stringToBinary(key)\n",
        "    lenBinKey = len(binKey)\n",
        "\n",
        "    sizeOrig = waterMarkedImage.shape[0]\n",
        "    size = sizeOrig // 8\n",
        "    originalImage = cv2.imread(imgPath + imageName)\n",
        "    originalImage = cv2.resize(originalImage, (sizeOrig, sizeOrig))\n",
        "    logo = np.zeros(shape = (size,size,3))\n",
        "\n",
        "    for dim in range(0,3,1):\n",
        "        inputArray = np.array(originalImage[:,:,dim], dtype=float)\n",
        "        test_1=waterMarkedImage[:,:,dim]\n",
        "\n",
        "        ext_wm=[]\n",
        "        k=0\n",
        "        z=0\n",
        "        beta = betaFactor\n",
        "        index = -1\n",
        "        \n",
        "        for i in range(0,sizeOrig,8):\n",
        "            for j in range(0,sizeOrig,8):\n",
        "                index += 1\n",
        "                if((int)(binKey[index%lenBinKey]) == 1):\n",
        "                    beta *= -1\n",
        "\n",
        "                subOrignal = dct(dct(inputArray[i:i+8,j:j+8].T, norm=\"ortho\").T, norm=\"ortho\")\n",
        "                subWaterMarked = dct(dct(test_1[i:i+8,j:j+8].T, norm=\"ortho\").T, norm=\"ortho\")\n",
        "\n",
        "                val= (beta * (subWaterMarked[1][1] - subOrignal[1][1])) / alpha\n",
        "\n",
        "                ext_wm.append(val)\n",
        "        ext_wm = np.array(ext_wm,dtype=float).reshape((size,size))\n",
        "        logo[:,:,dim] = inverse_dct(ext_wm)\n",
        "\n",
        "    logo = logo * 255\n",
        "    logo = logo.astype(np.uint8)\n",
        "\n",
        "    cv2_imshow(logo)\n",
        "    return logo"
      ],
      "metadata": {
        "id": "uNAT-blR01nB"
      },
      "execution_count": 48,
      "outputs": []
    },
    {
      "cell_type": "markdown",
      "source": [
        "# **Attacks**"
      ],
      "metadata": {
        "id": "mtw1VurWqwhO"
      }
    },
    {
      "cell_type": "code",
      "source": [
        "def attackGauss(image):\n",
        "    row,col,ch= image.shape\n",
        "    mean = 0\n",
        "    var = 0.01\n",
        "    sigma = var**0.5\n",
        "\n",
        "    gauss = np.random.normal(mean,sigma,(row,col,ch))\n",
        "    gauss = gauss.reshape(row,col,ch)\n",
        "    noisyImage = image + gauss\n",
        "    return noisyImage\n",
        "\n",
        "def attackSNP(image):\n",
        "    row,col,ch = image.shape\n",
        "    s_vs_p = 0.5\n",
        "    amount = 0.01\n",
        "    sNpImage = np.copy(image)\n",
        "    \n",
        "    # Salt mode\n",
        "    num_salt = np.ceil(amount * image.size * s_vs_p)\n",
        "    coords = [np.random.randint(0, i - 1, int(num_salt))\n",
        "            for i in image.shape]\n",
        "    sNpImage[coords] = 1\n",
        "\n",
        "    # Pepper mode\n",
        "    num_pepper = np.ceil(amount* image.size * (1. - s_vs_p))\n",
        "    coords = [np.random.randint(0, i - 1, int(num_pepper))\n",
        "            for i in image.shape]\n",
        "    sNpImage[coords] = 0\n",
        "    return sNpImage\n",
        "\n",
        "\n",
        "def attackPoisson(image):\n",
        "    vals = len(np.unique(image))\n",
        "    vals = 2 ** np.ceil(np.log2(vals))\n",
        "    noisy = np.random.poisson(image * vals) / float(vals)\n",
        "    return noisy\n",
        "    \n",
        "def attackSpeckle(image):\n",
        "    row,col,ch = image.shape\n",
        "    gauss = np.random.randn(row,col,ch)\n",
        "    gauss = gauss.reshape(row,col,ch)        \n",
        "    noisy = image + image * gauss\n",
        "    return noisy\n",
        "\n",
        "def attackRotate90(image):\n",
        "    angle = 90\n",
        "    scale = 1.0\n",
        "    w = image.shape[1]\n",
        "    h = image.shape[0]\n",
        "    rangle = np.deg2rad(angle)  # angle in radians\n",
        "    nw = (abs(np.sin(rangle) * h) + abs(np.cos(rangle) * w)) * scale\n",
        "    nh = (abs(np.cos(rangle) * h) + abs(np.sin(rangle) * w)) * scale\n",
        "    rot_mat = cv2.getRotationMatrix2D((nw * 0.5, nh * 0.5), angle, scale)\n",
        "    rot_move = np.dot(rot_mat, np.array(\n",
        "        [(nw - w) * 0.5, (nh - h) * 0.5, 0]))\n",
        "    rot_mat[0, 2] += rot_move[0]\n",
        "    rot_mat[1, 2] += rot_move[1]\n",
        "    noisy=cv2.warpAffine(image, rot_mat, (int(math.ceil(nw)), int(math.ceil(nh))), flags=cv2.INTER_LANCZOS4)\n",
        "    return noisy\n"
      ],
      "metadata": {
        "id": "oikGM5w4IZsk"
      },
      "execution_count": 47,
      "outputs": []
    },
    {
      "cell_type": "markdown",
      "source": [
        "# **Results**"
      ],
      "metadata": {
        "id": "cFJAJ419uani"
      }
    },
    {
      "cell_type": "code",
      "source": [
        "# coverFileName = input(\"Enter the cover filename: (eg- cover.jpg or lena.png)\")\n",
        "# key = input(\"Enter the key:\")\n",
        "# waterMarkImageName = input(\"Enter the name of the image to be hidden: (eg- iitbbs_logo.jpeg or logo.png)\")\n",
        "\n",
        "coverFileName = 'lena.png'\n",
        "key = 'Appa'\n",
        "# hiddenImageName = 'iitbbs_logo.jpeg'\n",
        "hiddenImageName = 'logo.png'\n",
        "\n",
        "originalImage, waterMarkedImage, waterMarkLogo, size = encodingImage(coverFileName, key, hiddenImageName)\n",
        "psnr = calculatePSNR(waterMarkedImage, originalImage)\n",
        "print('PSNR value = {}'.format(psnr))\n",
        "\n",
        "# cv2_imshow(originalImage)\n",
        "# cv2_imshow(waterMarkedImage)"
      ],
      "metadata": {
        "id": "2gujTBqS6oFN",
        "outputId": "b0d1f869-b0bd-4522-85db-2772091dd5f4",
        "colab": {
          "base_uri": "https://localhost:8080/"
        }
      },
      "execution_count": 36,
      "outputs": [
        {
          "output_type": "stream",
          "name": "stdout",
          "text": [
            "PSNR value = 102.87995799138363\n"
          ]
        }
      ]
    },
    {
      "cell_type": "code",
      "source": [
        "extractedLogo = extractImage(coverFileName, waterMarkedImage, 'Appa')\n",
        "nc_res = cv2.matchTemplate(waterMarkLogo, extractedLogo,cv2.TM_CCORR_NORMED)\n",
        "print(nc_res)"
      ],
      "metadata": {
        "colab": {
          "base_uri": "https://localhost:8080/",
          "height": 98
        },
        "id": "IWU4qh5p-PJk",
        "outputId": "f346376f-2a05-4c34-a0a4-504ca80fe933"
      },
      "execution_count": 49,
      "outputs": [
        {
          "output_type": "display_data",
          "data": {
            "image/png": "[encoded data removed]",
            "text/plain": [
              "<PIL.Image.Image image mode=RGB size=64x64 at 0x7F2F81AA9F10>"
            ]
          },
          "metadata": {}
        },
        {
          "output_type": "stream",
          "name": "stdout",
          "text": [
            "[[0.99999535]]\n"
          ]
        }
      ]
    },
    {
      "cell_type": "code",
      "source": [
        "gaussNoiseImage = attackGauss(waterMarkedImage)\n",
        "sNpNoiseImage = attackSNP(waterMarkedImage)\n",
        "speckleNoiseImage = attackSpeckle(waterMarkedImage)\n",
        "rotate90Image = attackRotate90(waterMarkedImage)\n",
        "poissonNoiseImage = attackPoisson(waterMarkedImage)\n",
        "\n",
        "gaussNoisePSNR = calculatePSNR(originalImage, gaussNoiseImage)\n",
        "sNpNoisePSNR = calculatePSNR(originalImage, sNpNoiseImage)\n",
        "specklePSNR = calculatePSNR(originalImage, speckleNoiseImage)\n",
        "rotate90PSNR = calculatePSNR(originalImage, rotate90Image)\n",
        "poissonPSNR = calculatePSNR(waterMarkedImage, poissonNoiseImage)\n",
        "\n",
        "print(\"PSNR value after gaussian attack is: \", gaussNoisePSNR)\n",
        "print(\"PSNR value after salt-N-pepper attack is: \", sNpNoisePSNR)\n",
        "print(\"PSNR value after speckle attack is: \", specklePSNR)\n",
        "print(\"PSNR value after rotate90 attack is: \", rotate90PSNR)\n",
        "print(\"PSNR value after poisson attack is: \", poissonPSNR)\n",
        "\n",
        "# print(\"Gauss Attack Results :\")\n",
        "# cv2_imshow(gaussNoiseImage)    \n",
        "# print(\"s&p Attack Results :\")\n",
        "# cv2_imshow(sNpNoiseImage)\n"
      ],
      "metadata": {
        "id": "_oiNh-oa7U9S",
        "outputId": "95bebef7-6ae0-4691-a11c-2a0efef21fba",
        "colab": {
          "base_uri": "https://localhost:8080/"
        }
      },
      "execution_count": 51,
      "outputs": [
        {
          "output_type": "stream",
          "name": "stdout",
          "text": [
            "PSNR value after gaussian attack is:  68.12155185709881\n",
            "PSNR value after salt-N-pepper attack is:  26.024973086057038\n",
            "PSNR value after speckle attack is:  5.965542051140364\n",
            "PSNR value after rotate90 attack is:  11.413206329413587\n",
            "PSNR value after poisson attack is:  84.54974782821944\n"
          ]
        },
        {
          "output_type": "stream",
          "name": "stderr",
          "text": [
            "/usr/local/lib/python3.7/dist-packages/ipykernel_launcher.py:22: FutureWarning: Using a non-tuple sequence for multidimensional indexing is deprecated; use `arr[tuple(seq)]` instead of `arr[seq]`. In the future this will be interpreted as an array index, `arr[np.array(seq)]`, which will result either in an error or a different result.\n",
            "/usr/local/lib/python3.7/dist-packages/ipykernel_launcher.py:28: FutureWarning: Using a non-tuple sequence for multidimensional indexing is deprecated; use `arr[tuple(seq)]` instead of `arr[seq]`. In the future this will be interpreted as an array index, `arr[np.array(seq)]`, which will result either in an error or a different result.\n"
          ]
        }
      ]
    },
    {
      "cell_type": "code",
      "source": [
        "extractedLogo = extractImage(coverFileName, gaussNoiseImage, 'Appa')\n",
        "nc_res = cv2.matchTemplate(waterMarkLogo, extractedLogo,cv2.TM_CCORR_NORMED)\n",
        "print(nc_res)"
      ],
      "metadata": {
        "id": "5Op2xgkB-eIJ",
        "outputId": "396fa276-a2c8-4052-a0c6-af74180146d2",
        "colab": {
          "base_uri": "https://localhost:8080/",
          "height": 98
        }
      },
      "execution_count": 39,
      "outputs": [
        {
          "output_type": "display_data",
          "data": {
            "image/png": "[encoded data removed]",
            "text/plain": [
              "<PIL.Image.Image image mode=RGB size=64x64 at 0x7F2F81A5CE90>"
            ]
          },
          "metadata": {}
        },
        {
          "output_type": "stream",
          "name": "stdout",
          "text": [
            "[[0.72695863]]\n"
          ]
        }
      ]
    },
    {
      "cell_type": "code",
      "source": [
        "extractedLogo = extractImage(coverFileName, sNpNoiseImage, 'Appa')\n",
        "nc_res = cv2.matchTemplate(waterMarkLogo, extractedLogo,cv2.TM_CCORR_NORMED)\n",
        "print(nc_res)"
      ],
      "metadata": {
        "id": "7F_6_u-Ftrrj",
        "outputId": "aabd61b4-8daf-4a2c-ed62-d6cca2461710",
        "colab": {
          "base_uri": "https://localhost:8080/",
          "height": 98
        }
      },
      "execution_count": 40,
      "outputs": [
        {
          "output_type": "display_data",
          "data": {
            "image/png": "[encoded data removed]",
            "text/plain": [
              "<PIL.Image.Image image mode=RGB size=64x64 at 0x7F2F8C757210>"
            ]
          },
          "metadata": {}
        },
        {
          "output_type": "stream",
          "name": "stdout",
          "text": [
            "[[0.8295444]]\n"
          ]
        }
      ]
    },
    {
      "cell_type": "code",
      "source": [
        "extractedLogo = extractImage(coverFileName, speckleNoiseImage, 'Appa')\n",
        "nc_res = cv2.matchTemplate(waterMarkLogo, extractedLogo,cv2.TM_CCORR_NORMED)\n",
        "print(nc_res)"
      ],
      "metadata": {
        "id": "OK7yXDigtyrb",
        "outputId": "1407da70-744a-45be-8536-dcb65670149e",
        "colab": {
          "base_uri": "https://localhost:8080/",
          "height": 98
        }
      },
      "execution_count": 41,
      "outputs": [
        {
          "output_type": "display_data",
          "data": {
            "image/png": "[encoded data removed]",
            "text/plain": [
              "<PIL.Image.Image image mode=RGB size=64x64 at 0x7F2F81A04BD0>"
            ]
          },
          "metadata": {}
        },
        {
          "output_type": "stream",
          "name": "stdout",
          "text": [
            "[[0.7275432]]\n"
          ]
        }
      ]
    },
    {
      "cell_type": "code",
      "source": [
        "extractedLogo = extractImage(coverFileName, rotate90Image, 'Appa')\n",
        "nc_res = cv2.matchTemplate(waterMarkLogo, extractedLogo,cv2.TM_CCORR_NORMED)\n",
        "print(nc_res)"
      ],
      "metadata": {
        "id": "CMudTAKNtzxr",
        "outputId": "3db376dc-3fc3-4070-9c49-d7967db61eff",
        "colab": {
          "base_uri": "https://localhost:8080/",
          "height": 98
        }
      },
      "execution_count": 42,
      "outputs": [
        {
          "output_type": "display_data",
          "data": {
            "image/png": "[encoded data removed]",
            "text/plain": [
              "<PIL.Image.Image image mode=RGB size=64x64 at 0x7F2F81A6B950>"
            ]
          },
          "metadata": {}
        },
        {
          "output_type": "stream",
          "name": "stdout",
          "text": [
            "[[0.73184407]]\n"
          ]
        }
      ]
    },
    {
      "cell_type": "code",
      "source": [
        "extractedLogo = extractImage(coverFileName, poissonNoiseImage, 'Appa')\n",
        "nc_res = cv2.matchTemplate(waterMarkLogo, extractedLogo,cv2.TM_CCORR_NORMED)\n",
        "print(nc_res)"
      ],
      "metadata": {
        "id": "QKTsv7HIt-sq",
        "outputId": "6760c5b3-07ca-43e1-d8b0-a522812a0ba1",
        "colab": {
          "base_uri": "https://localhost:8080/",
          "height": 98
        }
      },
      "execution_count": 46,
      "outputs": [
        {
          "output_type": "display_data",
          "data": {
            "image/png": "[encoded data removed]",
            "text/plain": [
              "<PIL.Image.Image image mode=RGB size=64x64 at 0x7F2F81A71DD0>"
            ]
          },
          "metadata": {}
        },
        {
          "output_type": "stream",
          "name": "stdout",
          "text": [
            "[[0.72944957]]\n"
          ]
        }
      ]
    }
  ]
}