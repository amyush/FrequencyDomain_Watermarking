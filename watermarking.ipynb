{
  "nbformat": 4,
  "nbformat_minor": 0,
  "metadata": {
    "colab": {
      "name": "watermarking.ipynb",
      "provenance": [],
      "collapsed_sections": [
        "JpzF-crDPVbq",
        "cFJAJ419uani"
      ],
      "authorship_tag": "ABX9TyMGgw/Kf7Ikl8lDuk3pmUR8",
      "include_colab_link": true
    },
    "kernelspec": {
      "name": "python3",
      "display_name": "Python 3"
    },
    "language_info": {
      "name": "python"
    }
  },
  "cells": [
    {
      "cell_type": "markdown",
      "metadata": {
        "id": "view-in-github",
        "colab_type": "text"
      },
      "source": [
        "<a href=\"https://colab.research.google.com/github/amyush/FrequencyDomain_Watermarking/blob/hideTheImage/watermarking.ipynb\" target=\"_parent\"><img src=\"https://colab.research.google.com/assets/colab-badge.svg\" alt=\"Open In Colab\"/></a>"
      ]
    },
    {
      "cell_type": "markdown",
      "source": [
        "# **Setting up the environment**"
      ],
      "metadata": {
        "id": "JpzF-crDPVbq"
      }
    },
    {
      "cell_type": "code",
      "source": [
        "!git clone https://github.com/amyush/FrequencyDomain_Watermarking.git"
      ],
      "metadata": {
        "colab": {
          "base_uri": "https://localhost:8080/"
        },
        "id": "0j3iLlog6tL9",
        "outputId": "e40de076-e3ec-4876-927b-375084c0b8c7"
      },
      "execution_count": 1,
      "outputs": [
        {
          "output_type": "stream",
          "name": "stdout",
          "text": [
            "Cloning into 'FrequencyDomain_Watermarking'...\n",
            "remote: Enumerating objects: 33, done.\u001b[K\n",
            "remote: Counting objects: 100% (33/33), done.\u001b[K\n",
            "remote: Compressing objects: 100% (30/30), done.\u001b[K\n",
            "remote: Total 33 (delta 13), reused 0 (delta 0), pack-reused 0\u001b[K\n",
            "Unpacking objects: 100% (33/33), done.\n"
          ]
        }
      ]
    },
    {
      "cell_type": "code",
      "execution_count": 2,
      "metadata": {
        "id": "8-4qGYfJ527x"
      },
      "outputs": [],
      "source": [
        "import numpy as np\n",
        "import cv2\n",
        "import math\n",
        "import pywt\n",
        "from PIL import Image, ImageOps\n",
        "import matplotlib.pyplot as plt\n",
        "from PIL import Image as im\n",
        "import math\n",
        "from scipy.fftpack import dct\n",
        "from scipy.fftpack import idct"
      ]
    },
    {
      "cell_type": "markdown",
      "source": [
        "# **Custom Functions**"
      ],
      "metadata": {
        "id": "7RtLV3On5mnJ"
      }
    },
    {
      "cell_type": "code",
      "source": [
        "def setParams():\n",
        "    global sizeOrig \n",
        "    sizeOrig = 2048\n",
        "    global sizeWatermark\n",
        "    sizeWatermark = 128\n",
        "    global alpha \n",
        "    alpha = 0.02\n",
        "    global betaFactor\n",
        "    betaFactor = 1\n",
        "    global imgPath\n",
        "    imgPath = \"FrequencyDomain_Watermarking/\"\n",
        "\n",
        "def stringToBinary(a):\n",
        "  l=[]\n",
        "  res = ''.join(format(ord(i), '08b') for i in a)\n",
        "  return res\n",
        "\n",
        "def calculatePSNR(originalImage, encodedImage):\n",
        "    originalImage = np.asarray(originalImage)\n",
        "    encodedImage = np.asarray(encodedImage)\n",
        "    error = np.sum((originalImage.astype('float') - encodedImage.astype('float')) ** 2)\n",
        "    error /= float(originalImage.shape[0] * originalImage.shape[1]);\n",
        "    if error == 0:\n",
        "        return 100\n",
        "    PIXEL_MAX = 255.0\n",
        "    return 20 * math.log10(PIXEL_MAX / math.sqrt(error))\n",
        "\n",
        "def apply_dct(image_array):\n",
        "    size = len(image_array[0])\n",
        "    all_subdct = np.empty((size, size))\n",
        "    for i in range (0, size, 8):\n",
        "        for j in range (0, size, 8):\n",
        "            subpixels = image_array[i:i+8, j:j+8]\n",
        "            subdct = dct(dct(subpixels.T, norm=\"ortho\").T, norm=\"ortho\")\n",
        "            all_subdct[i:i+8, j:j+8] = subdct\n",
        "\n",
        "    return all_subdct\n",
        "\n",
        "def inverse_dct(all_subdct):\n",
        "    size = len(all_subdct[0])\n",
        "    all_subidct = np.empty((size, size))\n",
        "    for i in range (0, size, 8):\n",
        "        for j in range (0, size, 8):\n",
        "            subidct = idct(idct(all_subdct[i:i+8, j:j+8].T, norm=\"ortho\").T, norm=\"ortho\")\n",
        "            all_subidct[i:i+8, j:j+8] = subidct\n",
        "\n",
        "    return all_subidct\n",
        "\n",
        "def process_coefficients(imArray, model, level):\n",
        "    coeffs=pywt.wavedec2(data = imArray, wavelet = model, level = level)\n",
        "    coeffs_H=list(coeffs) \n",
        "   \n",
        "    return coeffs_H"
      ],
      "metadata": {
        "id": "q6wKP6j18O3F"
      },
      "execution_count": 10,
      "outputs": []
    },
    {
      "cell_type": "markdown",
      "source": [
        "# **Steganography**"
      ],
      "metadata": {
        "id": "kbNjxJime5WM"
      }
    },
    {
      "cell_type": "markdown",
      "source": [
        "## **Hiding the data**"
      ],
      "metadata": {
        "id": "d8TzaV8-6bgh"
      }
    },
    {
      "cell_type": "code",
      "source": [
        "def encodingImage(imageName, key, hiddenImageName):\n",
        "    setParams();\n",
        "    binKey = stringToBinary(key)\n",
        "    lenBinKey = len(binKey)\n",
        "    \n",
        "    # Reading the cover image\n",
        "    inputImage = Image.open(imgPath + imageName).convert('L')\n",
        "    # Resizing the cover image so that it's dimension is compatible with the watermark image\n",
        "    inputImage = inputImage.resize((sizeOrig,sizeOrig),Image.BILINEAR)\n",
        "    # Converting the original image to array\n",
        "    inputArray = np.array(inputImage.getdata(), dtype=np.float).reshape((sizeOrig,sizeOrig))\n",
        "\n",
        "    # Reading the watermark image\n",
        "    waterMarkImage = Image.open(imgPath + hiddenImageName).convert('L')\n",
        "    # Resizing the logo image so that it's dimension is compatible with the cover image\n",
        "    waterMarkImage = waterMarkImage.resize((sizeWatermark, sizeWatermark), Image.BILINEAR)\n",
        "    waterMarkArray = np.array(waterMarkImage.getdata(), dtype=np.float).reshape((sizeWatermark,sizeWatermark))\n",
        "\n",
        "    dctOrigArray = apply_dct(inputArray)\n",
        "    dctWaterMarkArray = apply_dct(waterMarkArray)\n",
        "    flatWaterMark = waterMarkArray.ravel()\n",
        "\n",
        "    index = -1\n",
        "    count = 0\n",
        "    beta = betaFactor\n",
        "\n",
        "    for x in range (0, dctOrigArray.shape[0], 16):\n",
        "        for y in range (0, dctOrigArray.shape[1], 16):\n",
        "            index = index + 1;\n",
        "            if((int)(binKey[index%lenBinKey]) == 1):\n",
        "                beta *= -1\n",
        "            if count < flatWaterMark.size:\n",
        "                subdct = dctOrigArray[x:x+16, y:y+16]\n",
        "                subdct[12][12] = subdct[12][12] + alpha * beta * flatWaterMark[count]\n",
        "                dctOrigArray[x:x+16, y:y+16] = subdct\n",
        "                count += 1 \n",
        "    \n",
        "    idctArray = inverse_dct(dctOrigArray)\n",
        "    resImage = cv2.imwrite('coverRes.png', idctArray)"
      ],
      "metadata": {
        "id": "ddmjbVfq7vku"
      },
      "execution_count": 7,
      "outputs": []
    },
    {
      "cell_type": "markdown",
      "source": [
        "## **Extracting the watermark image**"
      ],
      "metadata": {
        "id": "OQyEPUHG0tV9"
      }
    },
    {
      "cell_type": "code",
      "source": [
        "def extractImage(imageName, key, hiddenImageName):\n",
        "    setParams();\n",
        "    binKey = stringToBinary(key)\n",
        "    lenBinKey = len(binKey)\n",
        "    \n",
        "    # Reading the cover image\n",
        "    inputImage = Image.open(imgPath + imageName).convert('L')\n",
        "    # Resizing the cover image so that it's dimension is compatible with the watermark image\n",
        "    inputImage = inputImage.resize((sizeOrig,sizeOrig),Image.BILINEAR)\n",
        "    # Converting the original image to array\n",
        "    inputArray = np.array(inputImage.getdata(), dtype=np.float).reshape((sizeOrig,sizeOrig))\n",
        "\n",
        "    # Reading the watermark image\n",
        "    waterMarkImage = Image.open(imgPath + hiddenImageName).convert('L')\n",
        "    # Resizing the logo image so that it's dimension is compatible with the cover image\n",
        "    waterMarkImage = waterMarkImage.resize((sizeWatermark, sizeWatermark), Image.BILINEAR)\n",
        "    waterMarkArray = np.array(waterMarkImage.getdata(), dtype=np.float).reshape((sizeWatermark,sizeWatermark))\n",
        "\n",
        "    dctOrigArray = apply_dct(inputArray)\n",
        "    dctWaterMarkArray = apply_dct(waterMarkArray)\n",
        "    flatWaterMark = waterMarkArray.ravel()\n",
        "\n",
        "    index = -1\n",
        "    count = 0\n",
        "\n",
        "    for x in range (0, dctOrigArray.shape[0], 16):\n",
        "        for y in range (0, dctOrigArray.shape[1], 16):\n",
        "            index = index + 1;\n",
        "            if((int)(binKey[index%lenBinKey]) == 1):\n",
        "                beta *= -1\n",
        "            if count < flatWaterMark.size:\n",
        "                subdct = dctOrigArray[x:x+16, y:y+16]\n",
        "                subdct[12][12] = subdct[12][12] + alpha * beta * flatWaterMark[count]\n",
        "                dctOrigArray[x:x+16, y:y+16] = subdct\n",
        "                count += 1 \n",
        "    \n",
        "    idctArray = inverse_dct(dctOrigArray)\n",
        "    resImage = cv2.imwrite('coverRes.png', idctArray)"
      ],
      "metadata": {
        "id": "uNAT-blR01nB"
      },
      "execution_count": 5,
      "outputs": []
    },
    {
      "cell_type": "markdown",
      "source": [
        "# **Results**"
      ],
      "metadata": {
        "id": "cFJAJ419uani"
      }
    },
    {
      "cell_type": "code",
      "source": [
        "# coverFileName = input(\"Enter the cover filename: (eg- cover.jpg or lena.png)\")\n",
        "# key = input(\"Enter the key:\")\n",
        "# waterMarkImageName = input(\"Enter the name of the image to be hidden: (eg- iitbbs_logo.jpeg or logo.png)\")\n",
        "\n",
        "coverFileName = 'cover.jpg'\n",
        "key = 'Appa'\n",
        "hiddenImageName = 'logo.png'\n",
        "\n",
        "encodingImage(coverFileName, key, hiddenImageName)\n",
        " "
      ],
      "metadata": {
        "id": "2gujTBqS6oFN"
      },
      "execution_count": 8,
      "outputs": []
    },
    {
      "cell_type": "code",
      "source": [
        "resImage = Image.open('coverRes.png')\n",
        "inputImage = Image.open('FrequencyDomain_Watermarking/cover.jpg').convert('L')\n",
        "inputImage = inputImage.resize((2048, 2048), Image.BILINEAR)\n",
        "psnr = calculatePSNR(inputImage, resImage)\n",
        "print(psnr)\n",
        "plt.subplot(1,2,1),plt.imshow(inputImage.convert('RGB')), plt.title(\"Input Image\")\n",
        "plt.subplot(1,2,2),plt.imshow(resImage.convert('RGB')), plt.title(\"Output Image\") \n"
      ],
      "metadata": {
        "colab": {
          "base_uri": "https://localhost:8080/",
          "height": 285
        },
        "id": "QdKdTbol-l9C",
        "outputId": "e067458f-d4c1-4ec5-b128-7a6f33f7b206"
      },
      "execution_count": 9,
      "outputs": [
        {
          "output_type": "stream",
          "name": "stdout",
          "text": [
            "57.15289875532164\n"
          ]
        },
        {
          "output_type": "execute_result",
          "data": {
            "text/plain": [
              "(<matplotlib.axes._subplots.AxesSubplot at 0x7f1dbd45a410>,\n",
              " <matplotlib.image.AxesImage at 0x7f1dbd3b77d0>,\n",
              " Text(0.5, 1.0, 'Output Image'))"
            ]
          },
          "metadata": {},
          "execution_count": 9
        },
        {
          "output_type": "display_data",
          "data": {
            "image/png": "[encoded data removed]",
            "text/plain": [
              "<Figure size 432x288 with 2 Axes>"
            ]
          },
          "metadata": {
            "needs_background": "light"
          }
        }
      ]
    }
  ]
}