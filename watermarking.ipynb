{
  "nbformat": 4,
  "nbformat_minor": 0,
  "metadata": {
    "colab": {
      "name": "watermarking.ipynb",
      "provenance": [],
      "collapsed_sections": [
        "JpzF-crDPVbq",
        "cFJAJ419uani"
      ],
      "authorship_tag": "ABX9TyOilzRt5iXaYSpO9Ut0WLXf",
      "include_colab_link": true
    },
    "kernelspec": {
      "name": "python3",
      "display_name": "Python 3"
    },
    "language_info": {
      "name": "python"
    }
  },
  "cells": [
    {
      "cell_type": "markdown",
      "metadata": {
        "id": "view-in-github",
        "colab_type": "text"
      },
      "source": [
        "<a href=\"https://colab.research.google.com/github/amyush/FrequencyDomain_Watermarking/blob/main/watermarking.ipynb\" target=\"_parent\"><img src=\"https://colab.research.google.com/assets/colab-badge.svg\" alt=\"Open In Colab\"/></a>"
      ]
    },
    {
      "cell_type": "markdown",
      "source": [
        "# **Setting up the environment**"
      ],
      "metadata": {
        "id": "JpzF-crDPVbq"
      }
    },
    {
      "cell_type": "code",
      "source": [
        "!git clone https://github.com/amyush/FrequencyDomain_Watermarking.git"
      ],
      "metadata": {
        "colab": {
          "base_uri": "https://localhost:8080/"
        },
        "id": "0j3iLlog6tL9",
        "outputId": "f5eacad4-6476-4ed1-c788-990f517c20b3"
      },
      "execution_count": 1,
      "outputs": [
        {
          "output_type": "stream",
          "name": "stdout",
          "text": [
            "Cloning into 'FrequencyDomain_Watermarking'...\n",
            "remote: Enumerating objects: 52, done.\u001b[K\n",
            "remote: Counting objects: 100% (52/52), done.\u001b[K\n",
            "remote: Compressing objects: 100% (49/49), done.\u001b[K\n",
            "remote: Total 52 (delta 24), reused 0 (delta 0), pack-reused 0\u001b[K\n",
            "Unpacking objects: 100% (52/52), done.\n"
          ]
        }
      ]
    },
    {
      "cell_type": "code",
      "execution_count": 2,
      "metadata": {
        "id": "8-4qGYfJ527x"
      },
      "outputs": [],
      "source": [
        "import numpy as np\n",
        "import cv2\n",
        "import math\n",
        "import pywt\n",
        "from PIL import Image, ImageOps\n",
        "import matplotlib.pyplot as plt\n",
        "from PIL import Image as im\n",
        "import math\n",
        "from scipy.fftpack import dct\n",
        "from scipy.fftpack import idct\n",
        "from google.colab.patches import cv2_imshow"
      ]
    },
    {
      "cell_type": "markdown",
      "source": [
        "# **Custom Functions**"
      ],
      "metadata": {
        "id": "7RtLV3On5mnJ"
      }
    },
    {
      "cell_type": "code",
      "source": [
        "def setParams():\n",
        "    global alpha \n",
        "    alpha = 0.02\n",
        "    global betaFactor\n",
        "    betaFactor = 1\n",
        "    global imgPath\n",
        "    imgPath = \"FrequencyDomain_Watermarking/\"\n",
        "    global factor\n",
        "    factor = 8\n",
        "\n",
        "def stringToBinary(a):\n",
        "  l=[]\n",
        "  res = ''.join(format(ord(i), '08b') for i in a)\n",
        "  return res\n",
        "\n",
        "def calculatePSNR(original, compressed):\n",
        "    mse = np.mean((original - compressed) ** 2)\n",
        "    if(mse == 0):  # MSE is zero means no noise is present in the signal .\n",
        "                    # Therefore PSNR have no importance.\n",
        "        return 100\n",
        "    max_pixel = 255.0\n",
        "    psnr = 20 * np.log10(max_pixel / np.sqrt(mse))\n",
        "    return psnr\n",
        "\n",
        "def apply_dct(image_array):\n",
        "    # size = (int)(math.sqrt(image_array.size))\n",
        "    size = len(image_array[0])\n",
        "    all_subdct = np.empty((size, size))\n",
        "    for i in range (0, size, 8):\n",
        "        for j in range (0, size, 8):\n",
        "            subpixels = image_array[i:i+8, j:j+8]\n",
        "            subdct = dct(dct(subpixels.T, norm=\"ortho\").T, norm=\"ortho\")\n",
        "            all_subdct[i:i+8, j:j+8] = subdct\n",
        "\n",
        "    return all_subdct\n",
        "\n",
        "def inverse_dct(all_subdct):\n",
        "    size = len(all_subdct[0])\n",
        "    all_subidct = np.empty((size, size))\n",
        "    for i in range (0, size, 8):\n",
        "        for j in range (0, size, 8):\n",
        "            subidct = idct(idct(all_subdct[i:i+8, j:j+8].T, norm=\"ortho\").T, norm=\"ortho\")\n",
        "            all_subidct[i:i+8, j:j+8] = subidct\n",
        "\n",
        "    return all_subidct"
      ],
      "metadata": {
        "id": "q6wKP6j18O3F"
      },
      "execution_count": 81,
      "outputs": []
    },
    {
      "cell_type": "markdown",
      "source": [
        "# **Steganography**"
      ],
      "metadata": {
        "id": "kbNjxJime5WM"
      }
    },
    {
      "cell_type": "markdown",
      "source": [
        "## **Hiding the data**"
      ],
      "metadata": {
        "id": "d8TzaV8-6bgh"
      }
    },
    {
      "cell_type": "code",
      "source": [
        "def encodingImage(imageName, key, hiddenImageName):\n",
        "    setParams();\n",
        "    binKey = stringToBinary(key)\n",
        "    lenBinKey = len(binKey)\n",
        "\n",
        "    # Reading the cover image\n",
        "    originalImage = cv2.imread(imgPath + imageName)\n",
        "\n",
        "    sizeOrig = 512\n",
        "    originalImage = cv2.resize(originalImage, (sizeOrig, sizeOrig))\n",
        "\n",
        "    # Reading the watermark image\n",
        "    waterMarkLogo = cv2.imread(imgPath + hiddenImageName)\n",
        "    sizeWatermark = 64\n",
        "    waterMarkLogo = cv2.resize(waterMarkLogo, (sizeWatermark, sizeWatermark))\n",
        "    \n",
        "    waterMarkArray = np.array(waterMarkLogo,dtype=float)\n",
        "\n",
        "    flatWaterMarkArray = np.zeros(shape = (sizeWatermark,sizeWatermark,3))\n",
        "    flatWaterMarkArray[:,:,0] = apply_dct(waterMarkArray[:,:,0])\n",
        "    flatWaterMarkArray[:,:,1] = apply_dct(waterMarkArray[:,:,1])\n",
        "    flatWaterMarkArray[:,:,2] = apply_dct(waterMarkArray[:,:,2])\n",
        "    \n",
        "    waterMarkedImage = np.zeros((sizeOrig,sizeOrig,3))\n",
        "\n",
        "    for dim in range(0,3,1):\n",
        "        inputArray = np.array(originalImage[:,:,dim], dtype=float)\n",
        "        flatWaterMark = (flatWaterMarkArray[:,:,dim]/255).ravel()\n",
        "        index = -1\n",
        "        count = 0\n",
        "        beta = betaFactor\n",
        "\n",
        "        for i in range(0, sizeOrig, 8):\n",
        "            for j in range(0, sizeOrig, 8):\n",
        "                index += 1\n",
        "                if((int)(binKey[index%lenBinKey]) == 1):\n",
        "                    beta *= -1\n",
        "                inputArray[i:i+8,j:j+8]=dct(dct(inputArray[i:i+8,j:j+8].T, norm=\"ortho\").T, norm=\"ortho\")\n",
        "                inputArray[i+1][j+1] += alpha * beta * flatWaterMark[count]\n",
        "                inputArray[i:i+8,j:j+8]=idct(idct(inputArray[i:i+8,j:j+8].T, norm=\"ortho\").T, norm=\"ortho\")\n",
        "                count += 1\n",
        "\n",
        "        waterMarkedImage[:,:,dim] = inputArray\n",
        "\n",
        "    \n",
        "    res = cv2.imwrite('waterMarkedImage.jpg', waterMarkedImage)\n",
        "    return originalImage, waterMarkedImage, waterMarkLogo, sizeWatermark\n"
      ],
      "metadata": {
        "id": "ddmjbVfq7vku"
      },
      "execution_count": 150,
      "outputs": []
    },
    {
      "cell_type": "markdown",
      "source": [
        "## **Extracting the watermark image**"
      ],
      "metadata": {
        "id": "OQyEPUHG0tV9"
      }
    },
    {
      "cell_type": "code",
      "source": [
        "def extractImage(imageName, waterMarkedImage, key, size):\n",
        "    setParams();\n",
        "    binKey = stringToBinary(key)\n",
        "    lenBinKey = len(binKey)\n",
        "\n",
        "    sizeOrig = 512\n",
        "    originalImage = cv2.imread(imgPath + imageName)\n",
        "    originalImage = cv2.resize(originalImage, (sizeOrig, sizeOrig))\n",
        "    logo = np.zeros(shape = (size,size,3))\n",
        "\n",
        "    for dim in range(0,3,1):\n",
        "        inputArray = np.array(originalImage[:,:,dim], dtype=float)\n",
        "        test_1=waterMarkedImage[:,:,dim]\n",
        "\n",
        "        ext_wm=[]\n",
        "        k=0\n",
        "        z=0\n",
        "        beta = betaFactor\n",
        "        index = -1\n",
        "        \n",
        "        for i in range(0,sizeOrig,8):\n",
        "            for j in range(0,sizeOrig,8):\n",
        "                index += 1\n",
        "                if((int)(binKey[index%lenBinKey]) == 1):\n",
        "                    beta *= -1\n",
        "\n",
        "                subOrignal = dct(dct(inputArray[i:i+8,j:j+8].T, norm=\"ortho\").T, norm=\"ortho\")\n",
        "                subWaterMarked = dct(dct(test_1[i:i+8,j:j+8].T, norm=\"ortho\").T, norm=\"ortho\")\n",
        "\n",
        "                val= (beta * (subWaterMarked[1][1] - subOrignal[1][1])) / alpha\n",
        "\n",
        "                ext_wm.append(val)\n",
        "        ext_wm = np.array(ext_wm,dtype=float).reshape((size,size))\n",
        "        logo[:,:,dim] = inverse_dct(ext_wm)\n",
        "\n",
        "    logo = logo * 255\n",
        "    logo = logo.astype(np.uint8)\n",
        "\n",
        "    cv2_imshow(logo)\n",
        "    return logo"
      ],
      "metadata": {
        "id": "uNAT-blR01nB"
      },
      "execution_count": 149,
      "outputs": []
    },
    {
      "cell_type": "markdown",
      "source": [
        "# **Results**"
      ],
      "metadata": {
        "id": "cFJAJ419uani"
      }
    },
    {
      "cell_type": "code",
      "source": [
        "# coverFileName = input(\"Enter the cover filename: (eg- cover.jpg or lena.png)\")\n",
        "# key = input(\"Enter the key:\")\n",
        "# waterMarkImageName = input(\"Enter the name of the image to be hidden: (eg- iitbbs_logo.jpeg or logo.png)\")\n",
        "\n",
        "coverFileName = 'lena.png'\n",
        "key = 'Appa'\n",
        "# hiddenImageName = 'iitbbs_logo.jpeg'\n",
        "hiddenImageName = 'iitbbs_logo.jpeg'\n",
        "\n",
        "originalImage, waterMarkedImage, waterMarkLogo, size = encodingImage(coverFileName, key, hiddenImageName)\n",
        "psnr = calculatePSNR(waterMarkedImage, originalImage)\n",
        "print('PSNR value = {}'.format(psnr))\n",
        "\n",
        "# cv2_imshow(originalImage)\n",
        "# cv2_imshow(waterMarkedImage)"
      ],
      "metadata": {
        "id": "2gujTBqS6oFN",
        "outputId": "7cdb235e-bcd0-4a71-c1d8-2a5a0a687434",
        "colab": {
          "base_uri": "https://localhost:8080/"
        }
      },
      "execution_count": 151,
      "outputs": [
        {
          "output_type": "stream",
          "name": "stdout",
          "text": [
            "PSNR value = 102.68090120024584\n"
          ]
        }
      ]
    },
    {
      "cell_type": "code",
      "source": [
        "extractedLogo = extractImage(coverFileName, waterMarkedImage, 'Appa', size)\n",
        "nc_res = cv2.matchTemplate(waterMarkLogo, extractedLogo,cv2.TM_CCORR_NORMED)\n",
        "print(nc_res)"
      ],
      "metadata": {
        "colab": {
          "base_uri": "https://localhost:8080/",
          "height": 98
        },
        "id": "IWU4qh5p-PJk",
        "outputId": "2b05bbac-78c2-4232-da3e-a084161f164c"
      },
      "execution_count": 152,
      "outputs": [
        {
          "output_type": "display_data",
          "data": {
            "image/png": "[encoded data removed]",
            "text/plain": [
              "<PIL.Image.Image image mode=RGB size=64x64 at 0x7F64E3358710>"
            ]
          },
          "metadata": {}
        },
        {
          "output_type": "stream",
          "name": "stdout",
          "text": [
            "[[0.9999959]]\n"
          ]
        }
      ]
    },
    {
      "cell_type": "markdown",
      "source": [
        "# **Attacks**"
      ],
      "metadata": {
        "id": "mtw1VurWqwhO"
      }
    },
    {
      "cell_type": "code",
      "source": [
        ""
      ],
      "metadata": {
        "id": "oikGM5w4IZsk"
      },
      "execution_count": null,
      "outputs": []
    }
  ]
}