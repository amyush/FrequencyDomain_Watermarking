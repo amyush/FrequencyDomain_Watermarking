{
  "nbformat": 4,
  "nbformat_minor": 0,
  "metadata": {
    "colab": {
      "name": "watermarking.ipynb",
      "provenance": [],
      "authorship_tag": "ABX9TyPowT/mqd5RemZsOlrIk3af",
      "include_colab_link": true
    },
    "kernelspec": {
      "name": "python3",
      "display_name": "Python 3"
    },
    "language_info": {
      "name": "python"
    }
  },
  "cells": [
    {
      "cell_type": "markdown",
      "metadata": {
        "id": "view-in-github",
        "colab_type": "text"
      },
      "source": [
        "<a href=\"https://colab.research.google.com/github/amyush/FrequencyDomain_Watermarking/blob/main/watermarking.ipynb\" target=\"_parent\"><img src=\"https://colab.research.google.com/assets/colab-badge.svg\" alt=\"Open In Colab\"/></a>"
      ]
    },
    {
      "cell_type": "markdown",
      "source": [
        "# **Setting up the environment**"
      ],
      "metadata": {
        "id": "JpzF-crDPVbq"
      }
    },
    {
      "cell_type": "code",
      "source": [
        "!git clone https://github.com/amyush/FrequencyDomain_Watermarking.git"
      ],
      "metadata": {
        "colab": {
          "base_uri": "https://localhost:8080/"
        },
        "id": "0j3iLlog6tL9",
        "outputId": "e1d41714-7277-49d0-f6db-f817f4f0dd1e"
      },
      "execution_count": 5,
      "outputs": [
        {
          "output_type": "stream",
          "name": "stdout",
          "text": [
            "Cloning into 'FrequencyDomain_Watermarking'...\n",
            "remote: Enumerating objects: 9, done.\u001b[K\n",
            "remote: Counting objects: 100% (9/9), done.\u001b[K\n",
            "remote: Compressing objects: 100% (6/6), done.\u001b[K\n",
            "remote: Total 9 (delta 0), reused 0 (delta 0), pack-reused 0\u001b[K\n",
            "Unpacking objects: 100% (9/9), done.\n"
          ]
        }
      ]
    },
    {
      "cell_type": "code",
      "execution_count": 3,
      "metadata": {
        "id": "8-4qGYfJ527x"
      },
      "outputs": [],
      "source": [
        "import numpy as np\n",
        "import cv2\n",
        "import math\n",
        "from PIL import Image"
      ]
    },
    {
      "cell_type": "markdown",
      "source": [
        "# **Custom Functions**"
      ],
      "metadata": {
        "id": "7RtLV3On5mnJ"
      }
    },
    {
      "cell_type": "code",
      "source": [
        "def stringToBinary(a):\n",
        "  l=[]\n",
        "  res = ''.join(format(ord(i), '08b') for i in a)\n",
        "  return res\n",
        "\n",
        "def binaryToString(a):\n",
        "  return chr(binaryToInt(a))\n",
        "\n",
        "def integerToBinary(a):\n",
        "  return int(bin(a)[2:])\n",
        "\n",
        "def binaryToInt(binary): \n",
        "    int_val, i, n = 0, 0, 0\n",
        "    while(binary != 0): \n",
        "        a = binary % 10\n",
        "        int_val = int_val + a * pow(2, i) \n",
        "        binary = binary//10\n",
        "        i += 1\n",
        "    return int_val\n",
        "\n",
        "def calculatePSNR(originalImage, encodedImage):\n",
        "  error = np.sum((originalImage.astype('float') - encodedImage.astype('float')) ** 2)\n",
        "  error /= float(originalImage.shape[0] * originalImage.shape[1]);\n",
        "  if error == 0:\n",
        "      return 100\n",
        "  PIXEL_MAX = 255.0\n",
        "  return 20 * math.log10(PIXEL_MAX / math.sqrt(error))\n",
        "\n",
        "def _compute_frame_dct(data):\n",
        "\n",
        "    num_frames = data.shape[0]\n",
        "    num_channels = data.shape[-1]\n",
        "\n",
        "    dct = np.zeros(shape=data.shape[:-1])\n",
        "\n",
        "    for i in range(num_frames):\n",
        "        frame = data[i, :]\n",
        "        if num_channels == 3:\n",
        "            gray = cv2.cvtColor(frame, cv2.COLOR_RGB2GRAY)\n",
        "        else:\n",
        "            gray = np.squeeze(frame)\n",
        "\n",
        "        dct[i, :, :] = cv2.dct(gray)\n",
        "\n",
        "    return dct "
      ],
      "metadata": {
        "id": "q6wKP6j18O3F"
      },
      "execution_count": 8,
      "outputs": []
    },
    {
      "cell_type": "markdown",
      "source": [
        "# **Steganography**"
      ],
      "metadata": {
        "id": "kbNjxJime5WM"
      }
    },
    {
      "cell_type": "markdown",
      "source": [
        "## **Hiding the data**"
      ],
      "metadata": {
        "id": "d8TzaV8-6bgh"
      }
    },
    {
      "cell_type": "code",
      "source": [
        "def encodingImage(imageName, key, message):\n",
        "    imgPath =\"FrequencyDomain_Watermarking/\"\n",
        "    inputImage = cv2.imread(imgPath + imageName, cv2.IMREAD_UNCHANGED);\n",
        "    outputImage = inputImage\n",
        "    delimeter = \"#@#@#@\"\n",
        "    height= inputImage.shape[0]\n",
        "    width = inputImage.shape[1]\n",
        "    dim = 1\n",
        "    if(len(inputImage.shape) > 2):\n",
        "        dim = inputImage.shape[2]\n",
        "    _compute_frame_dct(inputImage)\n",
        "\n",
        "    return inputImage, outputImage"
      ],
      "metadata": {
        "id": "ddmjbVfq7vku"
      },
      "execution_count": null,
      "outputs": []
    },
    {
      "cell_type": "code",
      "source": [
        "# coverFileName = input(\"Enter the cover filename: (eg- Cover_1.png or Cover_2.png)\")\n",
        "# key = input(\"Enter the key:\")\n",
        "# hiddenImageName = input(\"Enter the name of the image to be hidden:\")\n",
        "\n",
        "coverFileName = \n",
        "key = \n",
        "hiddenImageName = \n",
        "\n",
        "\n",
        "inputImage, outputImage = encodingMessage(fileName, key, message)\n",
        "\n",
        "plt.subplot(1,2,1),plt.imshow(cv2.cvtColor(inputImage, cv2.COLOR_BGR2RGB)), plt.title(\"Input Image\")\n",
        "plt.subplot(1,2,2),plt.imshow(cv2.cvtColor(outputImage, cv2.COLOR_BGR2RGB)), plt.title(\"Output Image\") "
      ],
      "metadata": {
        "id": "2gujTBqS6oFN"
      },
      "execution_count": null,
      "outputs": []
    },
    {
      "cell_type": "code",
      "source": [
        "\n",
        "#   binKey = stringToBinary(key)\n",
        "#   binMsg = stringToBinary(message + delimeter)\n",
        "#   lenBinKey = len(binKey)\n",
        "#   lenBinMsg = len(binMsg)\n",
        "\n",
        "#   index = -1\n",
        "#   count = 0\n",
        "#   pixel = 0\n",
        "\n",
        "#   for k in range(dim):\n",
        "#     for i in range(0, height, 1):\n",
        "#       for j in range(0, width, 1):\n",
        "#         index = index + 1;\n",
        "#         if((int)(binKey[index%lenBinKey]) == 1):\n",
        "#           if(count < lenBinMsg):\n",
        "#             if(dim == 1):\n",
        "#               pixel = integerToBinary(inputImage[i][j])\n",
        "#               newPixel = ((int)(pixel/10)*10) + (int)(binMsg[count])\n",
        "#               outputImage[i][j] = binaryToInt(newPixel);\n",
        "#             else:\n",
        "#               pixel = integerToBinary(inputImage[i][j][k])   \n",
        "#               newPixel = ((int)(pixel/10)*10) + (int)(binMsg[count])\n",
        "#               outputImage[i][j][k] = binaryToInt(newPixel);\n",
        "#             count = count + 1;\n",
        "\n",
        "\n",
        "#   psnr = calculatePSNR(inputImage, outputImage)\n",
        "#   cv2.imwrite(imgPath + \"encodedImage.png\", outputImage)\n",
        "#   return psnr, inputImage, outputImage;"
      ],
      "metadata": {
        "id": "jonw2JiF8Eat"
      },
      "execution_count": null,
      "outputs": []
    }
  ]
}