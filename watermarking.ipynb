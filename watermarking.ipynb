{
  "nbformat": 4,
  "nbformat_minor": 0,
  "metadata": {
    "colab": {
      "name": "watermarking.ipynb",
      "provenance": [],
      "collapsed_sections": [
        "JpzF-crDPVbq",
        "cFJAJ419uani"
      ],
      "authorship_tag": "ABX9TyP6lXTMHNKx+yCY9YTtU3d4",
      "include_colab_link": true
    },
    "kernelspec": {
      "name": "python3",
      "display_name": "Python 3"
    },
    "language_info": {
      "name": "python"
    }
  },
  "cells": [
    {
      "cell_type": "markdown",
      "metadata": {
        "id": "view-in-github",
        "colab_type": "text"
      },
      "source": [
        "<a href=\"https://colab.research.google.com/github/amyush/FrequencyDomain_Watermarking/blob/attacksOnWatermarkedImages/watermarking.ipynb\" target=\"_parent\"><img src=\"https://colab.research.google.com/assets/colab-badge.svg\" alt=\"Open In Colab\"/></a>"
      ]
    },
    {
      "cell_type": "markdown",
      "source": [
        "# **Setting up the environment**"
      ],
      "metadata": {
        "id": "JpzF-crDPVbq"
      }
    },
    {
      "cell_type": "code",
      "source": [
        "!git clone https://github.com/amyush/FrequencyDomain_Watermarking.git"
      ],
      "metadata": {
        "colab": {
          "base_uri": "https://localhost:8080/"
        },
        "id": "0j3iLlog6tL9",
        "outputId": "be3e3fe9-118a-4826-a89d-965717f4d4e6"
      },
      "execution_count": 1,
      "outputs": [
        {
          "output_type": "stream",
          "name": "stdout",
          "text": [
            "Cloning into 'FrequencyDomain_Watermarking'...\n",
            "remote: Enumerating objects: 71, done.\u001b[K\n",
            "remote: Counting objects: 100% (71/71), done.\u001b[K\n",
            "remote: Compressing objects: 100% (68/68), done.\u001b[K\n",
            "remote: Total 71 (delta 35), reused 0 (delta 0), pack-reused 0\u001b[K\n",
            "Unpacking objects: 100% (71/71), done.\n"
          ]
        }
      ]
    },
    {
      "cell_type": "code",
      "execution_count": 2,
      "metadata": {
        "id": "8-4qGYfJ527x"
      },
      "outputs": [],
      "source": [
        "import numpy as np\n",
        "import cv2\n",
        "import math\n",
        "import pywt\n",
        "from PIL import Image, ImageOps\n",
        "import matplotlib.pyplot as plt\n",
        "from PIL import Image as im\n",
        "import math\n",
        "from scipy.fftpack import dct\n",
        "from scipy.fftpack import idct\n",
        "from google.colab.patches import cv2_imshow"
      ]
    },
    {
      "cell_type": "markdown",
      "source": [
        "# **Custom Functions**"
      ],
      "metadata": {
        "id": "7RtLV3On5mnJ"
      }
    },
    {
      "cell_type": "code",
      "source": [
        "def setParams():\n",
        "    global alpha \n",
        "    alpha = 0.02\n",
        "    global betaFactor\n",
        "    betaFactor = 1\n",
        "    global imgPath\n",
        "    imgPath = \"FrequencyDomain_Watermarking/\"\n",
        "    global factor\n",
        "    factor = 8\n",
        "\n",
        "def stringToBinary(a):\n",
        "  l=[]\n",
        "  res = ''.join(format(ord(i), '08b') for i in a)\n",
        "  return res\n",
        "\n",
        "def calculatePSNR(original, compressed):\n",
        "    mse = np.mean((original - compressed) ** 2)\n",
        "    if(mse == 0):  # MSE is zero means no noise is present in the signal .\n",
        "                    # Therefore PSNR have no importance.\n",
        "        return 100\n",
        "    max_pixel = 255.0\n",
        "    psnr = 20 * np.log10(max_pixel / np.sqrt(mse))\n",
        "    return psnr\n",
        "\n",
        "def apply_dct(image_array):\n",
        "    # size = (int)(math.sqrt(image_array.size))\n",
        "    size = len(image_array[0])\n",
        "    all_subdct = np.empty((size, size))\n",
        "    for i in range (0, size, 8):\n",
        "        for j in range (0, size, 8):\n",
        "            subpixels = image_array[i:i+8, j:j+8]\n",
        "            subdct = dct(dct(subpixels.T, norm=\"ortho\").T, norm=\"ortho\")\n",
        "            all_subdct[i:i+8, j:j+8] = subdct\n",
        "\n",
        "    return all_subdct\n",
        "\n",
        "def inverse_dct(all_subdct):\n",
        "    size = len(all_subdct[0])\n",
        "    all_subidct = np.empty((size, size))\n",
        "    for i in range (0, size, 8):\n",
        "        for j in range (0, size, 8):\n",
        "            subidct = idct(idct(all_subdct[i:i+8, j:j+8].T, norm=\"ortho\").T, norm=\"ortho\")\n",
        "            all_subidct[i:i+8, j:j+8] = subidct\n",
        "    return all_subidct\n"
      ],
      "metadata": {
        "id": "q6wKP6j18O3F"
      },
      "execution_count": 29,
      "outputs": []
    },
    {
      "cell_type": "markdown",
      "source": [
        "# **Steganography**"
      ],
      "metadata": {
        "id": "kbNjxJime5WM"
      }
    },
    {
      "cell_type": "markdown",
      "source": [
        "## **Hiding the data**"
      ],
      "metadata": {
        "id": "d8TzaV8-6bgh"
      }
    },
    {
      "cell_type": "code",
      "source": [
        "def encodingImage(imageName, key, hiddenImageName):\n",
        "    setParams();\n",
        "    binKey = stringToBinary(key)\n",
        "    lenBinKey = len(binKey)\n",
        "\n",
        "    # Reading the cover image\n",
        "    originalImage = cv2.imread(imgPath + imageName)\n",
        "\n",
        "    sizeOrig = 512\n",
        "    originalImage = cv2.resize(originalImage, (sizeOrig, sizeOrig))\n",
        "\n",
        "    # Reading the watermark image\n",
        "    waterMarkLogo = cv2.imread(imgPath + hiddenImageName)\n",
        "    sizeWatermark = 64\n",
        "    waterMarkLogo = cv2.resize(waterMarkLogo, (sizeWatermark, sizeWatermark))\n",
        "    \n",
        "    waterMarkArray = np.array(waterMarkLogo,dtype=float)\n",
        "\n",
        "    flatWaterMarkArray = np.zeros(shape = (sizeWatermark,sizeWatermark,3))\n",
        "    flatWaterMarkArray[:,:,0] = apply_dct(waterMarkArray[:,:,0])\n",
        "    flatWaterMarkArray[:,:,1] = apply_dct(waterMarkArray[:,:,1])\n",
        "    flatWaterMarkArray[:,:,2] = apply_dct(waterMarkArray[:,:,2])\n",
        "    \n",
        "    waterMarkedImage = np.zeros((sizeOrig,sizeOrig,3))\n",
        "\n",
        "    for dim in range(0,3,1):\n",
        "        inputArray = np.array(originalImage[:,:,dim], dtype=float)\n",
        "        flatWaterMark = (flatWaterMarkArray[:,:,dim]/255).ravel()\n",
        "        index = -1\n",
        "        count = 0\n",
        "        beta = betaFactor\n",
        "\n",
        "        for i in range(0, sizeOrig, 8):\n",
        "            for j in range(0, sizeOrig, 8):\n",
        "                index += 1\n",
        "                if((int)(binKey[index%lenBinKey]) == 1):\n",
        "                    beta *= -1\n",
        "                inputArray[i:i+8,j:j+8]=dct(dct(inputArray[i:i+8,j:j+8].T, norm=\"ortho\").T, norm=\"ortho\")\n",
        "                inputArray[i+1][j+1] += alpha * beta * flatWaterMark[count]\n",
        "                inputArray[i:i+8,j:j+8]=idct(idct(inputArray[i:i+8,j:j+8].T, norm=\"ortho\").T, norm=\"ortho\")\n",
        "                count += 1\n",
        "\n",
        "        waterMarkedImage[:,:,dim] = inputArray\n",
        "\n",
        "    \n",
        "    res = cv2.imwrite('waterMarkedImage.jpg', waterMarkedImage)\n",
        "    return originalImage, waterMarkedImage, waterMarkLogo, sizeWatermark\n"
      ],
      "metadata": {
        "id": "ddmjbVfq7vku"
      },
      "execution_count": 4,
      "outputs": []
    },
    {
      "cell_type": "markdown",
      "source": [
        "## **Extracting the watermark image**"
      ],
      "metadata": {
        "id": "OQyEPUHG0tV9"
      }
    },
    {
      "cell_type": "code",
      "source": [
        "def extractImage(imageName, waterMarkedImage, key):\n",
        "    setParams();\n",
        "    binKey = stringToBinary(key)\n",
        "    lenBinKey = len(binKey)\n",
        "\n",
        "    sizeOrig = waterMarkedImage.shape[0]\n",
        "    size = sizeOrig // 8\n",
        "    originalImage = cv2.imread(imgPath + imageName)\n",
        "    originalImage = cv2.resize(originalImage, (sizeOrig, sizeOrig))\n",
        "    logo = np.zeros(shape = (size,size,3))\n",
        "\n",
        "    for dim in range(0,3,1):\n",
        "        inputArray = np.array(originalImage[:,:,dim], dtype=float)\n",
        "        test_1=waterMarkedImage[:,:,dim]\n",
        "\n",
        "        ext_wm=[]\n",
        "        k=0\n",
        "        z=0\n",
        "        beta = betaFactor\n",
        "        index = -1\n",
        "        \n",
        "        for i in range(0,sizeOrig,8):\n",
        "            for j in range(0,sizeOrig,8):\n",
        "                index += 1\n",
        "                if((int)(binKey[index%lenBinKey]) == 1):\n",
        "                    beta *= -1\n",
        "\n",
        "                subOrignal = dct(dct(inputArray[i:i+8,j:j+8].T, norm=\"ortho\").T, norm=\"ortho\")\n",
        "                subWaterMarked = dct(dct(test_1[i:i+8,j:j+8].T, norm=\"ortho\").T, norm=\"ortho\")\n",
        "\n",
        "                val= (beta * (subWaterMarked[1][1] - subOrignal[1][1])) / alpha\n",
        "\n",
        "                ext_wm.append(val)\n",
        "        ext_wm = np.array(ext_wm,dtype=float).reshape((size,size))\n",
        "        logo[:,:,dim] = inverse_dct(ext_wm)\n",
        "\n",
        "    logo = logo * 255\n",
        "    logo = logo.astype(np.uint8)\n",
        "\n",
        "    cv2_imshow(logo)\n",
        "    return logo"
      ],
      "metadata": {
        "id": "uNAT-blR01nB"
      },
      "execution_count": 5,
      "outputs": []
    },
    {
      "cell_type": "markdown",
      "source": [
        "# **Attacks**"
      ],
      "metadata": {
        "id": "mtw1VurWqwhO"
      }
    },
    {
      "cell_type": "code",
      "source": [
        "def attackGauss(image):\n",
        "    row,col,ch= image.shape\n",
        "    mean = 0\n",
        "    var = 0.01\n",
        "    sigma = var**0.5\n",
        "\n",
        "    gauss = np.random.normal(mean,sigma,(row,col,ch))\n",
        "    gauss = gauss.reshape(row,col,ch)\n",
        "    noisyImage = image + gauss\n",
        "    return noisyImage\n",
        "\n",
        "def attackSNP(image):\n",
        "    row,col,ch = image.shape\n",
        "    s_vs_p = 0.5\n",
        "    amount = 0.01\n",
        "    sNpImage = np.copy(image)\n",
        "    \n",
        "    # Salt mode\n",
        "    num_salt = np.ceil(amount * image.size * s_vs_p)\n",
        "    coords = [np.random.randint(0, i - 1, int(num_salt))\n",
        "            for i in image.shape]\n",
        "    sNpImage[coords] = 1\n",
        "\n",
        "    # Pepper mode\n",
        "    num_pepper = np.ceil(amount* image.size * (1. - s_vs_p))\n",
        "    coords = [np.random.randint(0, i - 1, int(num_pepper))\n",
        "            for i in image.shape]\n",
        "    sNpImage[coords] = 0\n",
        "    return sNpImage\n",
        "\n",
        "\n",
        "def attackPoisson(image):\n",
        "    vals = len(np.unique(image))\n",
        "    vals = 2 ** np.ceil(np.log2(vals))\n",
        "    noisy = np.random.poisson(image * vals) / float(vals)\n",
        "    return noisy\n",
        "    \n",
        "def attackSpeckle(image):\n",
        "    row,col,ch = image.shape\n",
        "    gauss = np.random.randn(row,col,ch)\n",
        "    gauss = gauss.reshape(row,col,ch)        \n",
        "    noisy = image + image * gauss\n",
        "    return noisy\n",
        "\n",
        "def attackRotate90(image):\n",
        "    angle = 90\n",
        "    scale = 1.0\n",
        "    w = image.shape[1]\n",
        "    h = image.shape[0]\n",
        "    rangle = np.deg2rad(angle)  # angle in radians\n",
        "    nw = (abs(np.sin(rangle) * h) + abs(np.cos(rangle) * w)) * scale\n",
        "    nh = (abs(np.cos(rangle) * h) + abs(np.sin(rangle) * w)) * scale\n",
        "    rot_mat = cv2.getRotationMatrix2D((nw * 0.5, nh * 0.5), angle, scale)\n",
        "    rot_move = np.dot(rot_mat, np.array(\n",
        "        [(nw - w) * 0.5, (nh - h) * 0.5, 0]))\n",
        "    rot_mat[0, 2] += rot_move[0]\n",
        "    rot_mat[1, 2] += rot_move[1]\n",
        "    noisy=cv2.warpAffine(image, rot_mat, (int(math.ceil(nw)), int(math.ceil(nh))), flags=cv2.INTER_LANCZOS4)\n",
        "    return noisy\n",
        "\n",
        "def averageFilter(images):\n",
        "    m = images.shape[0]\n",
        "    n = images.shape[1]\n",
        "    filter = np.ones([3,3], dtype=int)\n",
        "    filter = filter/9\n",
        "    avgImg = np.zeros((m,n,3))\n",
        "\n",
        "    for dim in range(0,3):\n",
        "        image = images[:,:,dim]\n",
        "        for i in range(1, m-1):\n",
        "            for j in range(1, n-1):\n",
        "                temp = (image[i-1, j-1]*filter[0, 0])+(image[i-1, j]*filter[0, 1])+(image[i-1, j + 1]*filter[0, 2])+(image[i, j-1]*filter[1, 0])+ (image[i, j]*filter[1, 1])+(image[i, j + 1]*filter[1, 2])+(image[i + 1, j-1]*filter[2, 0])+(image[i + 1, j]*filter[2, 1])+(image[i + 1, j + 1]*filter[2, 2])         \n",
        "                avgImg[i,j,dim] = temp\n",
        "    cv2.imwrite('average.png', avgImg)\n",
        "    return avgImg\n",
        "\n",
        "def medianFilter(image):\n",
        "    m = image.shape[0]\n",
        "    n = image.shape[0]\n",
        "    img_new1 = np.zeros([m, n, 3])\n",
        "\n",
        "    for dim in range(0,3):\n",
        "        for i in range(1, m-1):\n",
        "            for j in range(1, n-1):\n",
        "                temp = [image[i-1, j-1, dim], image[i-1, j, dim], image[i-1, j + 1, dim], image[i, j-1, dim], image[i, j, dim],\n",
        "                    image[i, j + 1, dim], image[i + 1, j-1, dim], image[i + 1, j, dim], image[i + 1, j + 1, dim]]\n",
        "                temp = sorted(temp)\n",
        "                img_new1[i, j, dim]= temp[4]\n",
        "\n",
        "    img_new1 = img_new1.astype(np.uint8)\n",
        "    cv2.imwrite('median.png', img_new1)\n",
        "    return img_new1\n"
      ],
      "metadata": {
        "id": "oikGM5w4IZsk"
      },
      "execution_count": 25,
      "outputs": []
    },
    {
      "cell_type": "markdown",
      "source": [
        "# **Results**"
      ],
      "metadata": {
        "id": "cFJAJ419uani"
      }
    },
    {
      "cell_type": "code",
      "source": [
        "# coverFileName = input(\"Enter the cover filename: (eg- cover.jpg or lena.png)\")\n",
        "# key = input(\"Enter the key:\")\n",
        "# waterMarkImageName = input(\"Enter the name of the image to be hidden: (eg- iitbbs_logo.jpeg or logo.png)\")\n",
        "\n",
        "coverFileName = 'lena.png'\n",
        "key = 'Appa'\n",
        "# hiddenImageName = 'iitbbs_logo.jpeg'\n",
        "hiddenImageName = 'logo.png'\n",
        "\n",
        "originalImage, waterMarkedImage, waterMarkLogo, size = encodingImage(coverFileName, key, hiddenImageName)\n",
        "psnr = calculatePSNR(waterMarkedImage, originalImage)\n",
        "print('PSNR value = {}'.format(psnr))\n",
        "\n",
        "# cv2_imshow(originalImage)\n",
        "# cv2_imshow(waterMarkedImage)"
      ],
      "metadata": {
        "id": "2gujTBqS6oFN",
        "outputId": "2d10f87c-eb02-4fc9-accc-cd23c2b8308b",
        "colab": {
          "base_uri": "https://localhost:8080/"
        }
      },
      "execution_count": 7,
      "outputs": [
        {
          "output_type": "stream",
          "name": "stdout",
          "text": [
            "PSNR value = 102.87995799138363\n"
          ]
        }
      ]
    },
    {
      "cell_type": "code",
      "source": [
        "# Extracting the watermark logo from encoded image\n",
        "extractedLogo = extractImage(coverFileName, waterMarkedImage, 'Appa')\n",
        "nc_res = cv2.matchTemplate(waterMarkLogo, extractedLogo,cv2.TM_CCORR_NORMED)\n",
        "print(nc_res)"
      ],
      "metadata": {
        "colab": {
          "base_uri": "https://localhost:8080/",
          "height": 98
        },
        "id": "IWU4qh5p-PJk",
        "outputId": "fb82ec2a-2630-4c86-ba1e-2491e86788db"
      },
      "execution_count": 8,
      "outputs": [
        {
          "output_type": "display_data",
          "data": {
            "image/png": "[encoded data removed]",
            "text/plain": [
              "<PIL.Image.Image image mode=RGB size=64x64 at 0x7FC9456DD890>"
            ]
          },
          "metadata": {}
        },
        {
          "output_type": "stream",
          "name": "stdout",
          "text": [
            "[[0.99999535]]\n"
          ]
        }
      ]
    },
    {
      "cell_type": "code",
      "source": [
        "\n",
        "\n",
        "\n",
        "\n",
        "\n",
        "\n",
        "\n",
        "\n",
        "\n",
        "\n",
        "\n",
        "\n",
        "\n",
        "# print(\"Gauss Attack Results :\")\n",
        "# cv2_imshow(gaussNoiseImage)    \n",
        "# print(\"s&p Attack Results :\")\n",
        "# cv2_imshow(sNpNoiseImage)\n"
      ],
      "metadata": {
        "id": "_oiNh-oa7U9S"
      },
      "execution_count": null,
      "outputs": []
    },
    {
      "cell_type": "markdown",
      "source": [
        "## **Gaussian Attack**"
      ],
      "metadata": {
        "id": "gBCz7PmH6TBA"
      }
    },
    {
      "cell_type": "code",
      "source": [
        "gaussNoiseImage = attackGauss(waterMarkedImage)\n",
        "gaussNoisePSNR = calculatePSNR(originalImage, gaussNoiseImage)\n",
        "print(\"PSNR value after gaussian attack is: \", gaussNoisePSNR)\n",
        "\n",
        "extractedLogo = extractImage(coverFileName, gaussNoiseImage, 'Appa')\n",
        "nc_res = cv2.matchTemplate(waterMarkLogo, extractedLogo,cv2.TM_CCORR_NORMED)\n",
        "print(nc_res)"
      ],
      "metadata": {
        "id": "5Op2xgkB-eIJ",
        "colab": {
          "base_uri": "https://localhost:8080/",
          "height": 98
        },
        "outputId": "18198523-1135-4946-959d-16ad972dab1c"
      },
      "execution_count": 10,
      "outputs": [
        {
          "output_type": "display_data",
          "data": {
            "image/png": "[encoded data removed]",
            "text/plain": [
              "<PIL.Image.Image image mode=RGB size=64x64 at 0x7FC94684D7D0>"
            ]
          },
          "metadata": {}
        },
        {
          "output_type": "stream",
          "name": "stdout",
          "text": [
            "[[0.7303302]]\n"
          ]
        }
      ]
    },
    {
      "cell_type": "markdown",
      "source": [
        "## **Average Attack**"
      ],
      "metadata": {
        "id": "Wu5m6rt_60Vv"
      }
    },
    {
      "cell_type": "code",
      "source": [
        "averageAttackImage = averageFilter(waterMarkedImage)\n",
        "averageAttackPSNR = calculatePSNR(originalImage, averageAttackImage)\n",
        "print(\"PSNR value after average attack is: \", averageAttackPSNR)\n",
        "\n",
        "extractedLogo = extractImage(coverFileName, averageAttackImage, 'Appa')\n",
        "nc_res = cv2.matchTemplate(waterMarkLogo, extractedLogo,cv2.TM_CCORR_NORMED)\n",
        "print(nc_res)"
      ],
      "metadata": {
        "id": "z-WQCYNr64t0"
      },
      "execution_count": null,
      "outputs": []
    },
    {
      "cell_type": "markdown",
      "source": [
        "## **Speckle** **Attack**"
      ],
      "metadata": {
        "id": "i2Ibxcb68EcP"
      }
    },
    {
      "cell_type": "code",
      "source": [
        "speckleNoiseImage = attackSpeckle(waterMarkedImage)\n",
        "specklePSNR = calculatePSNR(originalImage, speckleNoiseImage)\n",
        "print(\"PSNR value after speckle attack is: \", specklePSNR)\n",
        "extractedLogo = extractImage(coverFileName, speckleNoiseImage, 'Appa')\n",
        "nc_res = cv2.matchTemplate(waterMarkLogo, extractedLogo,cv2.TM_CCORR_NORMED)\n",
        "print(nc_res)"
      ],
      "metadata": {
        "id": "zSqpHf9-8I_f"
      },
      "execution_count": null,
      "outputs": []
    },
    {
      "cell_type": "markdown",
      "source": [
        "## **Poisson Attack**"
      ],
      "metadata": {
        "id": "_s2YHHLa8MQH"
      }
    },
    {
      "cell_type": "code",
      "source": [
        "poissonNoiseImage = attackPoisson(waterMarkedImage)\n",
        "poissonPSNR = calculatePSNR(waterMarkedImage, poissonNoiseImage)\n",
        "print(\"PSNR value after poisson attack is: \", poissonPSNR)\n",
        "extractedLogo = extractImage(coverFileName, poissonNoiseImage, 'Appa')\n",
        "nc_res = cv2.matchTemplate(waterMarkLogo, extractedLogo,cv2.TM_CCORR_NORMED)\n",
        "print(nc_res)"
      ],
      "metadata": {
        "id": "P4Lsc9mV8RVP"
      },
      "execution_count": null,
      "outputs": []
    },
    {
      "cell_type": "markdown",
      "source": [
        "## **Median** **Attack**"
      ],
      "metadata": {
        "id": "9DpPxAob8T1P"
      }
    },
    {
      "cell_type": "code",
      "source": [
        "medianAttackImage = medianFilter(waterMarkedImage)\n",
        "medianAttackPSNR = calculatePSNR(originalImage, medianAttackImage)\n",
        "print(\"PSNR value after median attack is: \", medianAttackPSNR)\n",
        "extractedLogo = extractImage(coverFileName, medianAttackImage, 'Appa')\n",
        "nc_res = cv2.matchTemplate(waterMarkLogo, extractedLogo,cv2.TM_CCORR_NORMED)\n",
        "print(nc_res)"
      ],
      "metadata": {
        "id": "e7Iaqy_b8XV3"
      },
      "execution_count": null,
      "outputs": []
    },
    {
      "cell_type": "markdown",
      "source": [
        "## **SNP Attack**"
      ],
      "metadata": {
        "id": "yaK8tcix8epO"
      }
    },
    {
      "cell_type": "code",
      "source": [
        "sNpNoiseImage = attackSNP(waterMarkedImage)\n",
        "sNpNoisePSNR = calculatePSNR(originalImage, sNpNoiseImage)\n",
        "print(\"PSNR value after salt-N-pepper attack is: \", sNpNoisePSNR)\n",
        "\n",
        "extractedLogo = extractImage(coverFileName, sNpNoiseImage, 'Appa')\n",
        "nc_res = cv2.matchTemplate(waterMarkLogo, extractedLogo,cv2.TM_CCORR_NORMED)\n",
        "print(nc_res)\n"
      ],
      "metadata": {
        "id": "yE5tijMW8iBW"
      },
      "execution_count": null,
      "outputs": []
    },
    {
      "cell_type": "markdown",
      "source": [
        "## **Geometric attack - rotate by 90**"
      ],
      "metadata": {
        "id": "M7AIfwhP8kfP"
      }
    },
    {
      "cell_type": "code",
      "source": [
        "rotate90Image = attackRotate90(waterMarkedImage)\n",
        "rotate90PSNR = calculatePSNR(originalImage, rotate90Image)\n",
        "print(\"PSNR value after rotate90 attack is: \", rotate90PSNR)\n",
        "extractedLogo = extractImage(coverFileName, rotate90Image, 'Appa')\n",
        "nc_res = cv2.matchTemplate(waterMarkLogo, extractedLogo,cv2.TM_CCORR_NORMED)\n",
        "print(nc_res)"
      ],
      "metadata": {
        "id": "fITTpX2h8q_X"
      },
      "execution_count": null,
      "outputs": []
    }
  ]
}