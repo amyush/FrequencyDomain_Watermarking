{
  "nbformat": 4,
  "nbformat_minor": 0,
  "metadata": {
    "colab": {
      "name": "watermarking.ipynb",
      "provenance": [],
      "authorship_tag": "ABX9TyPHrwElxVbSjRLqslC+IPRq",
      "include_colab_link": true
    },
    "kernelspec": {
      "name": "python3",
      "display_name": "Python 3"
    },
    "language_info": {
      "name": "python"
    }
  },
  "cells": [
    {
      "cell_type": "markdown",
      "metadata": {
        "id": "view-in-github",
        "colab_type": "text"
      },
      "source": [
        "<a href=\"https://colab.research.google.com/github/amyush/FrequencyDomain_Watermarking/blob/main/watermarking.ipynb\" target=\"_parent\"><img src=\"https://colab.research.google.com/assets/colab-badge.svg\" alt=\"Open In Colab\"/></a>"
      ]
    },
    {
      "cell_type": "markdown",
      "source": [
        "# **Setting up the environment**"
      ],
      "metadata": {
        "id": "JpzF-crDPVbq"
      }
    },
    {
      "cell_type": "code",
      "source": [
        "!git clone https://github.com/amyush/FrequencyDomain_Watermarking.git"
      ],
      "metadata": {
        "colab": {
          "base_uri": "https://localhost:8080/"
        },
        "id": "0j3iLlog6tL9",
        "outputId": "b215b764-c1b8-4af6-8201-31342e07937d"
      },
      "execution_count": 2,
      "outputs": [
        {
          "output_type": "stream",
          "name": "stdout",
          "text": [
            "Cloning into 'FrequencyDomain_Watermarking'...\n",
            "remote: Enumerating objects: 18, done.\u001b[K\n",
            "remote: Counting objects: 100% (18/18), done.\u001b[K\n",
            "remote: Compressing objects: 100% (15/15), done.\u001b[K\n",
            "remote: Total 18 (delta 3), reused 0 (delta 0), pack-reused 0\u001b[K\n",
            "Unpacking objects: 100% (18/18), done.\n"
          ]
        }
      ]
    },
    {
      "cell_type": "code",
      "execution_count": 3,
      "metadata": {
        "id": "8-4qGYfJ527x"
      },
      "outputs": [],
      "source": [
        "import numpy as np\n",
        "import cv2\n",
        "import math\n",
        "from PIL import Image\n",
        "import matplotlib.pyplot as plt\n",
        "from PIL import Image as im\n",
        "import math"
      ]
    },
    {
      "cell_type": "markdown",
      "source": [
        "# **Custom Functions**"
      ],
      "metadata": {
        "id": "7RtLV3On5mnJ"
      }
    },
    {
      "cell_type": "code",
      "source": [
        "def stringToBinary(a):\n",
        "  l=[]\n",
        "  res = ''.join(format(ord(i), '08b') for i in a)\n",
        "  return res\n",
        "\n",
        "def binaryToString(a):\n",
        "  return chr(binaryToInt(a))\n",
        "\n",
        "def integerToBinary(a):\n",
        "  return int(bin(a)[2:])\n",
        "\n",
        "def binaryToInt(binary): \n",
        "    int_val, i, n = 0, 0, 0\n",
        "    while(binary != 0): \n",
        "        a = binary % 10\n",
        "        int_val = int_val + a * pow(2, i) \n",
        "        binary = binary//10\n",
        "        i += 1\n",
        "    return int_val\n",
        "\n",
        "def calculatePSNR(originalImage, encodedImage):\n",
        "  error = np.sum((originalImage.astype('float') - encodedImage.astype('float')) ** 2)\n",
        "  error /= float(originalImage.shape[0] * originalImage.shape[1]);\n",
        "  if error == 0:\n",
        "      return 100\n",
        "  PIXEL_MAX = 255.0\n",
        "  return 20 * math.log10(PIXEL_MAX / math.sqrt(error))\n",
        "\n",
        "def computeDCT(image):\n",
        "    dct = np.zeros(shape=image.shape)\n",
        "    dim = 1\n",
        "    if(len(image.shape) > 2):\n",
        "        dim = image.shape[2]\n",
        "\n",
        "    for i in range(dim):\n",
        "        dct[i] = cv2.dct(image[i])\n",
        "\n",
        "    return dct \n",
        "\n",
        "def computeIDCT(dctImage):\n",
        "    idct = np.zeros(shape=dctImage.shape)\n",
        "    dim = 1\n",
        "    if(len(dctImage.shape) > 2):\n",
        "        dim = dctImage.shape[2]\n",
        "\n",
        "    for i in range(dim):\n",
        "        idct[i] = cv2.idct(dctImage[i])\n",
        "\n",
        "    for d in range(dim):\n",
        "        for i in range(idct.shape[0]):\n",
        "            for j in range(idct.shape[1]):\n",
        "                idct[i][j][d] = abs(math.sqrt(idct[i][j][d].real**2 + idct[i][j][d].imag**2))\n",
        "\n",
        "    return idct \n"
      ],
      "metadata": {
        "id": "q6wKP6j18O3F"
      },
      "execution_count": 4,
      "outputs": []
    },
    {
      "cell_type": "markdown",
      "source": [
        "# **Steganography**"
      ],
      "metadata": {
        "id": "kbNjxJime5WM"
      }
    },
    {
      "cell_type": "markdown",
      "source": [
        "## **Hiding the data**"
      ],
      "metadata": {
        "id": "d8TzaV8-6bgh"
      }
    },
    {
      "cell_type": "code",
      "source": [
        "def encodingImage(imageName, key, hiddenImageName):\n",
        "    imgPath =\"FrequencyDomain_Watermarking/\"\n",
        "    delimeter = \"#@#@#@\"\n",
        "\n",
        "    inputImage = cv2.imread(imgPath + imageName, cv2.IMREAD_UNCHANGED)\n",
        "    # inputImage = inputImage.resize(2048,2048,3)\n",
        "    waterMarkImage = cv2.imread(imgPath + hiddenImageName, cv2.IMREAD_UNCHANGED)\n",
        "    waterMarkImage = waterMarkImage.resize(8,8)\n",
        "\n",
        "    binKey = stringToBinary(key)\n",
        "    lenBinKey = len(binKey)\n",
        "\n",
        "    height = inputImage.shape[0]\n",
        "    width = inputImage.shape[1]\n",
        "    dim = 1\n",
        "\n",
        "    if(len(inputImage.shape) > 2):\n",
        "        dim = inputImage.shape[2]\n",
        "\n",
        "    flatOrigImage = np.ravel(np.array(inputImage, dtype=np.float))\n",
        "    flatWatermarkImage = np.ravel(np.array(waterMarkImage, dtype=np.float))\n",
        "\n",
        "    dctOrigImage = cv2.dct(flatOrigImage)\n",
        "\n",
        "    outputImage = dctOrigImage\n",
        "\n",
        "    index = -1\n",
        "    count = 0\n",
        "    pixel = 0\n",
        "\n",
        "    for i in range(len(dctOrigImage)):\n",
        "        index = index + 1;\n",
        "        if((int)(binKey[index%lenBinKey]) == 1):\n",
        "            if(count < flatWatermarkImage.shape[0]):\n",
        "                outputImage[i] = flatWatermarkImage[count]\n",
        "                count = count + 1;\n",
        "\n",
        "    idctArray = cv2.idct(outputImage)\n",
        "    resultArray = np.reshape(idctArray, (height, width, dim)).astype(np.uint8)\n",
        "    resImage = cv2.imwrite('res.jpg', resultArray)\n",
        "    return inputImage, resImage\n",
        "    "
      ],
      "metadata": {
        "id": "ddmjbVfq7vku"
      },
      "execution_count": 55,
      "outputs": []
    },
    {
      "cell_type": "code",
      "source": [
        "# coverFileName = input(\"Enter the cover filename: (eg- Cover_1.png or Cover_2.png)\")\n",
        "# key = input(\"Enter the key:\")\n",
        "# hiddenImageName = input(\"Enter the name of the image to be hidden:\")\n",
        "\n",
        "coverFileName = 'cover.jpg'\n",
        "key = 'Appawdawdawdawdle'\n",
        "hiddenImageName = 'logo.png'\n",
        "\n",
        "\n",
        "inputImage, outputImage = encodingImage(coverFileName, key, hiddenImageName)\n",
        "\n",
        "# plt.subplot(1,2,1),plt.imshow(cv2.cvtColor(inputImage, cv2.COLOR_BGR2RGB)), plt.title(\"Input Image\")\n",
        "# plt.subplot(1,2,2),plt.imshow(outputImage), plt.title(\"Output Image\") \n",
        "# plt.subplot(1,3,3),plt.imshow(cv2.cvtColor(idct, cv2.COLOR_BGR2RGB)), plt.title(\"Output Image\") "
      ],
      "metadata": {
        "id": "2gujTBqS6oFN"
      },
      "execution_count": 57,
      "outputs": []
    },
    {
      "cell_type": "markdown",
      "source": [
        "# **Results**"
      ],
      "metadata": {
        "id": "cFJAJ419uani"
      }
    },
    {
      "cell_type": "code",
      "source": [
        "def encode(img_path, wm_path, res_path, alpha):\n",
        "    img = cv2.imread(img_path)\n",
        "    img_f = np.fft.fft2(img)\n",
        "    height, width, channel = np.shape(img)\n",
        "    watermark = cv2.imread(wm_path)\n",
        "    wm_height, wm_width = watermark.shape[0], watermark.shape[1]\n",
        "    x, y = range(height / 2), range(width)\n",
        "    random.seed(height + width)\n",
        "    random.shuffle(x)\n",
        "    random.shuffle(y)\n",
        "    tmp = np.zeros(img.shape)\n",
        "    for i in range(height / 2):\n",
        "        for j in range(width):\n",
        "            if x[i] < wm_height and y[j] < wm_width:\n",
        "                tmp[i][j] = watermark[x[i]][y[j]]\n",
        "                tmp[height - 1 - i][width - 1 - j] = tmp[i][j]\n",
        "    res_f = img_f + alpha * tmp\n",
        "    res = np.fft.ifft2(res_f)\n",
        "    res = np.real(res)\n",
        "    cv2.imwrite(res_path, res, [int(cv2.IMWRITE_JPEG_QUALITY), 100])"
      ],
      "metadata": {
        "id": "xcPuZHmRI4cq"
      },
      "execution_count": null,
      "outputs": []
    },
    {
      "cell_type": "code",
      "source": [
        "plt.subplot(1,3,1),plt.imshow(cv2.cvtColor(result, cv2.COLOR_BGR2RGB)), plt.title(\"Input Image\")\n"
      ],
      "metadata": {
        "id": "jyQlP4bg0H5O"
      },
      "execution_count": null,
      "outputs": []
    }
  ]
}