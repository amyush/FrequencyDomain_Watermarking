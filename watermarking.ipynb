{
  "nbformat": 4,
  "nbformat_minor": 0,
  "metadata": {
    "colab": {
      "name": "watermarking.ipynb",
      "provenance": [],
      "collapsed_sections": [
        "JpzF-crDPVbq",
        "cFJAJ419uani"
      ],
      "authorship_tag": "ABX9TyPbWfiLtAoB5Ay68fvmQvzr",
      "include_colab_link": true
    },
    "kernelspec": {
      "name": "python3",
      "display_name": "Python 3"
    },
    "language_info": {
      "name": "python"
    }
  },
  "cells": [
    {
      "cell_type": "markdown",
      "metadata": {
        "id": "view-in-github",
        "colab_type": "text"
      },
      "source": [
        "<a href=\"https://colab.research.google.com/github/amyush/FrequencyDomain_Watermarking/blob/main/watermarking.ipynb\" target=\"_parent\"><img src=\"https://colab.research.google.com/assets/colab-badge.svg\" alt=\"Open In Colab\"/></a>"
      ]
    },
    {
      "cell_type": "markdown",
      "source": [
        "# **Setting up the environment**"
      ],
      "metadata": {
        "id": "JpzF-crDPVbq"
      }
    },
    {
      "cell_type": "code",
      "source": [
        "!git clone https://github.com/amyush/FrequencyDomain_Watermarking.git"
      ],
      "metadata": {
        "colab": {
          "base_uri": "https://localhost:8080/"
        },
        "id": "0j3iLlog6tL9",
        "outputId": "f5eacad4-6476-4ed1-c788-990f517c20b3"
      },
      "execution_count": 1,
      "outputs": [
        {
          "output_type": "stream",
          "name": "stdout",
          "text": [
            "Cloning into 'FrequencyDomain_Watermarking'...\n",
            "remote: Enumerating objects: 52, done.\u001b[K\n",
            "remote: Counting objects: 100% (52/52), done.\u001b[K\n",
            "remote: Compressing objects: 100% (49/49), done.\u001b[K\n",
            "remote: Total 52 (delta 24), reused 0 (delta 0), pack-reused 0\u001b[K\n",
            "Unpacking objects: 100% (52/52), done.\n"
          ]
        }
      ]
    },
    {
      "cell_type": "code",
      "execution_count": 2,
      "metadata": {
        "id": "8-4qGYfJ527x"
      },
      "outputs": [],
      "source": [
        "import numpy as np\n",
        "import cv2\n",
        "import math\n",
        "import pywt\n",
        "from PIL import Image, ImageOps\n",
        "import matplotlib.pyplot as plt\n",
        "from PIL import Image as im\n",
        "import math\n",
        "from scipy.fftpack import dct\n",
        "from scipy.fftpack import idct\n",
        "from google.colab.patches import cv2_imshow"
      ]
    },
    {
      "cell_type": "markdown",
      "source": [
        "# **Custom Functions**"
      ],
      "metadata": {
        "id": "7RtLV3On5mnJ"
      }
    },
    {
      "cell_type": "code",
      "source": [
        "def setParams():\n",
        "    global alpha \n",
        "    alpha = 0.02\n",
        "    global betaFactor\n",
        "    betaFactor = 1\n",
        "    global imgPath\n",
        "    imgPath = \"FrequencyDomain_Watermarking/\"\n",
        "    global factor\n",
        "    factor = 8\n",
        "\n",
        "def stringToBinary(a):\n",
        "  l=[]\n",
        "  res = ''.join(format(ord(i), '08b') for i in a)\n",
        "  return res\n",
        "\n",
        "def calculatePSNR(original, compressed):\n",
        "    mse = np.mean((original - compressed) ** 2)\n",
        "    if(mse == 0):  # MSE is zero means no noise is present in the signal .\n",
        "                    # Therefore PSNR have no importance.\n",
        "        return 100\n",
        "    max_pixel = 255.0\n",
        "    psnr = 20 * np.log10(max_pixel / np.sqrt(mse))\n",
        "    return psnr\n",
        "\n",
        "def apply_dct(image_array):\n",
        "    # size = (int)(math.sqrt(image_array.size))\n",
        "    size = len(image_array[0])\n",
        "    all_subdct = np.empty((size, size))\n",
        "    for i in range (0, size, 8):\n",
        "        for j in range (0, size, 8):\n",
        "            subpixels = image_array[i:i+8, j:j+8]\n",
        "            subdct = dct(dct(subpixels.T, norm=\"ortho\").T, norm=\"ortho\")\n",
        "            all_subdct[i:i+8, j:j+8] = subdct\n",
        "\n",
        "    return all_subdct\n",
        "\n",
        "def inverse_dct(all_subdct):\n",
        "    size = len(all_subdct[0])\n",
        "    all_subidct = np.empty((size, size))\n",
        "    for i in range (0, size, 8):\n",
        "        for j in range (0, size, 8):\n",
        "            subidct = idct(idct(all_subdct[i:i+8, j:j+8].T, norm=\"ortho\").T, norm=\"ortho\")\n",
        "            all_subidct[i:i+8, j:j+8] = subidct\n",
        "\n",
        "    return all_subidct"
      ],
      "metadata": {
        "id": "q6wKP6j18O3F"
      },
      "execution_count": 81,
      "outputs": []
    },
    {
      "cell_type": "markdown",
      "source": [
        "# **Steganography**"
      ],
      "metadata": {
        "id": "kbNjxJime5WM"
      }
    },
    {
      "cell_type": "markdown",
      "source": [
        "## **Hiding the data**"
      ],
      "metadata": {
        "id": "d8TzaV8-6bgh"
      }
    },
    {
      "cell_type": "code",
      "source": [
        "def encodingImage(imageName, key, hiddenImageName):\n",
        "    setParams();\n",
        "    binKey = stringToBinary(key)\n",
        "    lenBinKey = len(binKey)\n",
        "\n",
        "    # Reading the cover image\n",
        "    originalImage = cv2.imread(imgPath + imageName)\n",
        "    print(originalImage.size)\n",
        "\n",
        "    sizeOrig = (originalImage.shape[0] // 8) * 8\n",
        "    originalImage = cv2.resize(originalImage, (sizeOrig, sizeOrig))\n",
        "    print(sizeOrig)\n",
        "    inputArray = np.array(originalImage[:,:,0], dtype=float)\n",
        "\n",
        "    # Reading the watermark image\n",
        "    waterMarkLogo = cv2.imread(imgPath + hiddenImageName)\n",
        "    sizeWatermark = (waterMarkLogo.shape[0] // 8) * 8\n",
        "    waterMarkLogo = cv2.resize(waterMarkLogo, (sizeWatermark, sizeWatermark))\n",
        "    \n",
        "    waterMarkArray = np.array(waterMarkLogo,dtype=float)\n",
        "\n",
        "    flatWaterMark = np.zeros(shape = (sizeWatermark,sizeWatermark,3))\n",
        "    flatWaterMark[:,:,0] = apply_dct(waterMarkArray[:,:,0])\n",
        "    flatWaterMark[:,:,1] = apply_dct(waterMarkArray[:,:,1])\n",
        "    flatWaterMark[:,:,2] = apply_dct(waterMarkArray[:,:,2])\n",
        "    \n",
        "    flatWaterMark = (flatWaterMark/255).ravel()\n",
        "\n",
        "    index = -1\n",
        "    count = 0\n",
        "    beta = betaFactor\n",
        "\n",
        "    for i in range(0, sizeOrig, 8):\n",
        "        for j in range(0, sizeOrig, 8):\n",
        "            if((int)(binKey[index%lenBinKey]) == 1):\n",
        "                beta *= -1\n",
        "            if count < flatWaterMark.size:\n",
        "                inputArray[i:i+8,j:j+8]=dct(dct(inputArray[i:i+8,j:j+8].T, norm=\"ortho\").T, norm=\"ortho\")\n",
        "                # inputArray[1][1] += alpha * beta * flatWaterMark[count]\n",
        "                inputArray[i+1][j+1] = flatWaterMark[count]\n",
        "                inputArray[i:i+8,j:j+8]=idct(idct(inputArray[i:i+8,j:j+8].T, norm=\"ortho\").T, norm=\"ortho\")\n",
        "                count += 1\n",
        "\n",
        "    waterMarkedImage = np.zeros((sizeOrig,sizeOrig,3))\n",
        "    waterMarkedImage[:,:,0] = inputArray\n",
        "    waterMarkedImage[:,:,1:] = originalImage[:,:,1:]\n",
        "\n",
        "    res = cv2.imwrite('waterMarkedImage.jpg', waterMarkedImage)\n",
        "    return originalImage, waterMarkedImage, sizeWatermark\n"
      ],
      "metadata": {
        "id": "ddmjbVfq7vku"
      },
      "execution_count": 85,
      "outputs": []
    },
    {
      "cell_type": "markdown",
      "source": [
        "## **Extracting the watermark image**"
      ],
      "metadata": {
        "id": "OQyEPUHG0tV9"
      }
    },
    {
      "cell_type": "code",
      "source": [
        "def extractImage(waterMarkedImage, key, size):\n",
        "    setParams();\n",
        "    binKey = stringToBinary(key)\n",
        "    lenBinKey = len(binKey)\n",
        "    \n",
        "    sizeOrig = waterMarkedImage.shape[0]\n",
        "    ext_wm=[]\n",
        "    k=0\n",
        "    z=0\n",
        "    \n",
        "    test_1=waterMarkedImage[:,:,0]\n",
        "\n",
        "    for i in range(0,sizeOrig,8):\n",
        "        for j in range(0,sizeOrig,8):\n",
        "            if(z>=(len(key))):\n",
        "                z=0\n",
        "            if(k < size*size*3):\n",
        "                subdct = test_1[i:i+8,j:j+8]\n",
        "                subdct =dct(dct(subdct.T, norm=\"ortho\").T, norm=\"ortho\")\n",
        "                z=z+1\n",
        "                val=subdct[1][1]\n",
        "                ext_wm.append(val)\n",
        "                k=k+1\n",
        "            else:\n",
        "                break\n",
        "        if(k >= size*size*3):\n",
        "            break\n",
        "\n",
        "    ext_wm=np.array(ext_wm,dtype=float).reshape((size,size,3))\n",
        "    logo = np.zeros(shape = (size,size,3))\n",
        "    logo[:,:,0] = inverse_dct(ext_wm[:,:,0])\n",
        "    logo[:,:,1] = inverse_dct(ext_wm[:,:,1])\n",
        "    logo[:,:,2] = inverse_dct(ext_wm[:,:,2])\n",
        "    \n",
        "    logo = logo * 255\n",
        "    logo = logo.astype(np.uint8)\n",
        "\n",
        "    cv2_imshow(logo)"
      ],
      "metadata": {
        "id": "uNAT-blR01nB"
      },
      "execution_count": 88,
      "outputs": []
    },
    {
      "cell_type": "markdown",
      "source": [
        "# **Results**"
      ],
      "metadata": {
        "id": "cFJAJ419uani"
      }
    },
    {
      "cell_type": "code",
      "source": [
        "# coverFileName = input(\"Enter the cover filename: (eg- cover.jpg or lena.png)\")\n",
        "# key = input(\"Enter the key:\")\n",
        "# waterMarkImageName = input(\"Enter the name of the image to be hidden: (eg- iitbbs_logo.jpeg or logo.png)\")\n",
        "\n",
        "coverFileName = 'lena.png'\n",
        "key = 'Appa'\n",
        "# hiddenImageName = 'iitbbs_logo.jpeg'\n",
        "hiddenImageName = 'logo.png'\n",
        "\n",
        "originalImage, waterMarkedImage, size = encodingImage(coverFileName, key, hiddenImageName)\n",
        "psnr = calculatePSNR(originalImage, waterMarkedImage)\n",
        "print('PSNR value = {}'.format(psnr))\n",
        "\n",
        "# cv2_imshow(originalImage)\n",
        "# cv2_imshow(waterMarkedImage)"
      ],
      "metadata": {
        "id": "2gujTBqS6oFN",
        "outputId": "b288d84c-f0e7-4f2b-c0bc-cc6ae797b161",
        "colab": {
          "base_uri": "https://localhost:8080/"
        }
      },
      "execution_count": 90,
      "outputs": [
        {
          "output_type": "stream",
          "name": "stdout",
          "text": [
            "795648\n",
            "512\n",
            "PSNR value = 46.292414792287424\n"
          ]
        }
      ]
    },
    {
      "cell_type": "code",
      "source": [
        "extractImage(waterMarkedImage, 'Appa', size)"
      ],
      "metadata": {
        "colab": {
          "base_uri": "https://localhost:8080/",
          "height": 41
        },
        "id": "IWU4qh5p-PJk",
        "outputId": "95cddc70-f16e-4d48-9b6e-6ead33f754ce"
      },
      "execution_count": 91,
      "outputs": [
        {
          "output_type": "display_data",
          "data": {
            "image/png": "[encoded data removed]",
            "text/plain": [
              "<PIL.Image.Image image mode=RGB size=24x24 at 0x7F64E76B9F50>"
            ]
          },
          "metadata": {}
        }
      ]
    },
    {
      "cell_type": "code",
      "source": [
        ""
      ],
      "metadata": {
        "id": "oikGM5w4IZsk"
      },
      "execution_count": null,
      "outputs": []
    }
  ]
}